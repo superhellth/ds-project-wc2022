{
 "cells": [
  {
   "cell_type": "markdown",
   "source": [
    "# Part 4\n",
    "Now we apply our solution(s) from part 3 to the files in the scans folder.\n",
    "Again, we use our 'pypdf2' txt files."
   ],
   "metadata": {
    "collapsed": false
   }
  },
  {
   "cell_type": "code",
   "execution_count": 17,
   "outputs": [],
   "source": [
    "# Imports\n",
    "# io\n",
    "import os\n",
    "import shutil\n",
    "\n",
    "# analyze\n",
    "import re"
   ],
   "metadata": {
    "collapsed": false,
    "pycharm": {
     "name": "#%%\n"
    }
   }
  },
  {
   "cell_type": "code",
   "execution_count": 7,
   "metadata": {
    "collapsed": true
   },
   "outputs": [],
   "source": [
    "files = []\n",
    "\n",
    "for file in os.listdir(os.path.join(os.path.dirname(os.path.dirname(os.getcwd())), 'files', 'scans')):\n",
    "    name, ext = os.path.splitext(file)\n",
    "    if ext == '.pdf':\n",
    "        path = os.path.join(os.path.dirname(os.path.dirname(os.getcwd())), 'files', 'scans', file)\n",
    "        files.append(os.path.join(os.path.dirname(path), os.path.splitext(file)[0] + \"_\" + \"pypdf2\" + \".txt\"))\n",
    "\n",
    "files_scans = [file for file in files if \"scans\" in file]\n",
    "files_scans_copy = []"
   ]
  },
  {
   "cell_type": "code",
   "execution_count": 10,
   "outputs": [],
   "source": [
    "def copy_scan_files():\n",
    "    \"\"\"\n",
    "    Copies the txt files used for the analysis. Keeps the file name, adds 'copy'.\n",
    "    \"\"\"\n",
    "    for _ in files_scans:\n",
    "        shutil.copy(_, _.replace('.txt','_copy.txt'))\n",
    "        files_scans_copy.append(_.replace('.txt', '_copy.txt'))"
   ],
   "metadata": {
    "collapsed": false,
    "pycharm": {
     "name": "#%%\n"
    }
   }
  },
  {
   "cell_type": "code",
   "execution_count": 11,
   "outputs": [],
   "source": [
    "copy_scan_files()"
   ],
   "metadata": {
    "collapsed": false,
    "pycharm": {
     "name": "#%%\n"
    }
   }
  },
  {
   "cell_type": "markdown",
   "source": [
    "Let's copy over our functions we used to find phone numbers from part3.ipynb"
   ],
   "metadata": {
    "collapsed": false
   }
  },
  {
   "cell_type": "markdown",
   "source": [
    "We will perform some preformatting, otherwise this test will be pretty pointless.\n",
    "Since we have different methods for each file in part 3 we will show the best one here."
   ],
   "metadata": {
    "collapsed": false
   }
  },
  {
   "cell_type": "code",
   "execution_count": 14,
   "outputs": [],
   "source": [
    "def format_scan_files():\n",
    "    for txt_file in files_scans_copy:\n",
    "        text = \"\"\n",
    "        with open(txt_file, 'r') as scan1_file:\n",
    "            text += scan1_file.read()\n",
    "        text = text.replace('\\n', ' ')  # Get rid of newlines\n",
    "        text = text.replace('-', ' ')  # Get rid of dashes\n",
    "        text = text.replace('/', ' ')  # Get rid of slashes\n",
    "        text = text.replace('(', '')  # Get rid of parentheses\n",
    "        text = text.replace(')', '')\n",
    "        text = text.replace(' ', '')  # Get rid of spaces\n",
    "        with open(txt_file, 'w') as scan1_file:\n",
    "            scan1_file.writelines(text)"
   ],
   "metadata": {
    "collapsed": false,
    "pycharm": {
     "name": "#%%\n"
    }
   }
  },
  {
   "cell_type": "code",
   "execution_count": 15,
   "outputs": [],
   "source": [
    "format_scan_files()"
   ],
   "metadata": {
    "collapsed": false,
    "pycharm": {
     "name": "#%%\n"
    }
   }
  },
  {
   "cell_type": "code",
   "execution_count": 18,
   "outputs": [],
   "source": [
    "numbers = []"
   ],
   "metadata": {
    "collapsed": false,
    "pycharm": {
     "name": "#%%\n"
    }
   }
  },
  {
   "cell_type": "code",
   "execution_count": 19,
   "outputs": [],
   "source": [
    "# From part3: We used this approach with the 'wegweiser senioren' file as well.\n",
    "# We did not use it for the bundeswehr file because we got way better results using a different method.\n",
    "def find_numbers_bahnstadt(path_to_file) -> list:\n",
    "    \"\"\"\n",
    "    Searches inside the bahnstadt copy txt file for valid phone numbers.\n",
    "    :return: List of numbers found in txt file.\n",
    "    \"\"\"\n",
    "    matches = []\n",
    "    fax_numbers = []\n",
    "    bahnstadt_copy = path_to_file\n",
    "    text = \"\"\n",
    "    with open(bahnstadt_copy, 'r') as bahnstadt_file:\n",
    "        text += bahnstadt_file.read()\n",
    "    for match in re.findall(r'(110|112|115|116117|19222|116006)', text):\n",
    "        matches.append(match)\n",
    "    for match in re.findall(r'0[1-9][0-9]{6,12}', text):\n",
    "        matches.append(match)\n",
    "    for match in re.findall(r'[a-zA-Z]*fax[a-zA-Z]*(\\d+)', text, flags=re.I):  # find all fax numbers\n",
    "        fax_numbers.append(match)\n",
    "    matches = [match for match in matches if match not in fax_numbers]  # remove fax numbers from solution\n",
    "    return list(set(matches))  # convert to set to remove duplicates"
   ],
   "metadata": {
    "collapsed": false,
    "pycharm": {
     "name": "#%%\n"
    }
   }
  },
  {
   "cell_type": "markdown",
   "source": [
    "Let's see how many numbers we can find:"
   ],
   "metadata": {
    "collapsed": false
   }
  },
  {
   "cell_type": "code",
   "execution_count": 22,
   "outputs": [],
   "source": [
    "for scan_file in files_scans_copy:\n",
    "    for num in find_numbers_bahnstadt(scan_file):\n",
    "        numbers.append(num)"
   ],
   "metadata": {
    "collapsed": false,
    "pycharm": {
     "name": "#%%\n"
    }
   }
  },
  {
   "cell_type": "code",
   "execution_count": 23,
   "outputs": [
    {
     "name": "stdout",
     "output_type": "stream",
     "text": [
      "54\n"
     ]
    }
   ],
   "source": [
    "print(len(numbers))"
   ],
   "metadata": {
    "collapsed": false,
    "pycharm": {
     "name": "#%%\n"
    }
   }
  },
  {
   "cell_type": "code",
   "execution_count": 24,
   "outputs": [
    {
     "name": "stdout",
     "output_type": "stream",
     "text": [
      "['0622160430', '062211383620', '0622197370', '06202859430', '115', '062215850930', '062211383613', '0622150259595', '06221140714', '01711734982', '018122008708', '01726239609', '01751699490', '062219831331', '01712819736', '015158778269', '01788957264', '015773565090', '01773434363', '110', '115', '01707781800', '01775987162', '017623232774', '112', '01791173263', '017632137783', '0622160430', '062211383620', '0622197370', '06202859430', '115', '062215850930', '062211383613', '0622150259595', '06221140714', '01711734982', '018122008708', '01726239609', '01751699490', '062219831331', '01712819736', '015158778269', '01788957264', '015773565090', '01773434363', '110', '115', '01707781800', '01775987162', '017623232774', '112', '01791173263', '017632137783']\n"
     ]
    }
   ],
   "source": [
    "print(numbers)"
   ],
   "metadata": {
    "collapsed": false,
    "pycharm": {
     "name": "#%%\n"
    }
   }
  },
  {
   "cell_type": "markdown",
   "source": [
    "## Analyze our findings\n",
    "### What kind of numbers did we find?\n",
    "We found 54 numbers which have two different formats.\n",
    "First, we have the short 'emergency' type numbers like 115, 112, which we capture explicitly.\n",
    "Then, we have numbers that begin with 0, then a non-zero number and then 6 to 12 more numbers.\n",
    "\n",
    "\n",
    "---\n",
    "\n",
    "Obviously, we miss out on a large amount of phone numbers since we don't capture phone numbers that are not prefixed by their 'Vorwahl'."
   ],
   "metadata": {
    "collapsed": false
   }
  },
  {
   "cell_type": "code",
   "execution_count": null,
   "outputs": [],
   "source": [],
   "metadata": {
    "collapsed": false,
    "pycharm": {
     "name": "#%%\n"
    }
   }
  }
 ],
 "metadata": {
  "kernelspec": {
   "display_name": "Python 3",
   "language": "python",
   "name": "python3"
  },
  "language_info": {
   "codemirror_mode": {
    "name": "ipython",
    "version": 2
   },
   "file_extension": ".py",
   "mimetype": "text/x-python",
   "name": "python",
   "nbconvert_exporter": "python",
   "pygments_lexer": "ipython2",
   "version": "2.7.6"
  }
 },
 "nbformat": 4,
 "nbformat_minor": 0
}