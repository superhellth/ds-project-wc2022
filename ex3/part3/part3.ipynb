{
 "cells": [
  {
   "cell_type": "markdown",
   "source": [
    "# Assignment 1, ex3, part3\n",
    "by Raphael Ebner, Nicolas Hellthaler, Bastian Müller"
   ],
   "metadata": {
    "collapsed": false
   }
  },
  {
   "cell_type": "code",
   "execution_count": 269,
   "outputs": [],
   "source": [
    "# Imports\n",
    "# File utils\n",
    "import os\n",
    "import shutil\n",
    "\n",
    "# Analyzing tools\n",
    "import re\n",
    "import validators"
   ],
   "metadata": {
    "collapsed": false,
    "pycharm": {
     "name": "#%%\n"
    }
   }
  },
  {
   "cell_type": "markdown",
   "source": [
    "Get arrays with paths to all .txt files generated using 'pypdf2'."
   ],
   "metadata": {
    "collapsed": false
   }
  },
  {
   "cell_type": "code",
   "execution_count": 201,
   "metadata": {
    "collapsed": true
   },
   "outputs": [],
   "source": [
    "folders = ['flyers', 'iban', 'scans']\n",
    "files = []\n",
    "\n",
    "for folder in folders:\n",
    "    for file in os.listdir(os.path.join(os.path.dirname(os.path.dirname(os.getcwd())), 'files', folder)):\n",
    "        name, ext = os.path.splitext(file)\n",
    "        if ext == '.pdf':\n",
    "            path = os.path.join(os.path.dirname(os.path.dirname(os.getcwd())), 'files', folder, file)\n",
    "            files.append(os.path.join(os.path.dirname(path), os.path.splitext(file)[0] + \"_\" + \"pypdf2\" + \".txt\"))\n",
    "\n",
    "files_flyers = [file for file in files if \"flyers\" in file]\n",
    "files_flyers_copy = []\n",
    "files_iban = [file for file in files if \"iban\" in file]\n",
    "files_iban_copy = []\n",
    "files_scans = [file for file in files if \"scans\" in file]\n",
    "files_scans_copy = []"
   ]
  },
  {
   "cell_type": "markdown",
   "source": [
    "## (i) Extract phone numbers from PDF files in /flyers\n",
    "We start by identifying what format the phone numbers are in by looking at our PDF files."
   ],
   "metadata": {
    "collapsed": false
   }
  },
  {
   "cell_type": "markdown",
   "source": [
    "Takeaways bahnstadt.pdf\n",
    "- Most start with 0\n",
    "- Have to exclude fax numbers, often prefixed by 'Fax' or 'Telefax'\n",
    "- Different formats like '0621 / 89..' or '0621 - 89 ..'\n",
    "- Different length\n",
    "- Some phone numbers don't have a prefix because the prefix is mentioned in the row above (no solution found)\n",
    "\n",
    "Takeaways bundeswehr.pdf\n",
    "- Only use first number, second (if exists) is fax number\n",
    "- 'Telephone IVB' in third column?\n",
    "\n",
    "Takeaways wegweiser_senioren.pdf\n",
    "- Different formats '(0621) 89 ..'\n",
    "- Again sometimes no prefix, e.g. '(0 62 21) 58-38340, 58-38330'\n",
    "- Replace thin spaces in txt file"
   ],
   "metadata": {
    "collapsed": false
   }
  },
  {
   "cell_type": "markdown",
   "source": [
    "First we copy each txt file to format it later."
   ],
   "metadata": {
    "collapsed": false
   }
  },
  {
   "cell_type": "code",
   "execution_count": 202,
   "outputs": [],
   "source": [
    "def copy_subpart1_files():\n",
    "    \"\"\"\n",
    "    Copies the txt files used for the analysis. Keeps the file name, adds '_subpartX'.\n",
    "    \"\"\"\n",
    "    for flyer in files_flyers:\n",
    "        shutil.copy(flyer, flyer.replace('.txt','_subpart1.txt'))\n",
    "        files_flyers_copy.append(flyer.replace('.txt', '_subpart1.txt'))"
   ],
   "metadata": {
    "collapsed": false,
    "pycharm": {
     "name": "#%%\n"
    }
   }
  },
  {
   "cell_type": "code",
   "execution_count": 203,
   "outputs": [],
   "source": [
    "copy_subpart1_files()"
   ],
   "metadata": {
    "collapsed": false,
    "pycharm": {
     "name": "#%%\n"
    }
   }
  },
  {
   "cell_type": "markdown",
   "source": [
    "Based on the findings above we write three different algorithms to takle each .pdf file individually.\n",
    "We start by formatting the txt files and then make use of regex extensively."
   ],
   "metadata": {
    "collapsed": false
   }
  },
  {
   "cell_type": "code",
   "execution_count": 204,
   "outputs": [],
   "source": [
    "numbers = []"
   ],
   "metadata": {
    "collapsed": false,
    "pycharm": {
     "name": "#%%\n"
    }
   }
  },
  {
   "cell_type": "code",
   "execution_count": 205,
   "outputs": [],
   "source": [
    "def format_bahnstadt():\n",
    "    \"\"\"\n",
    "    Formats the bahnstadt copy txt file and prepares it for analysis.\n",
    "    \"\"\"\n",
    "    bahnstadt_copy = [flyer for flyer in files_flyers_copy if 'bahnstadt' in flyer][0]\n",
    "    text = \"\"\n",
    "    with open(bahnstadt_copy, 'r') as bahnstadt_file:\n",
    "        text += bahnstadt_file.read()\n",
    "    text = text.replace('\\n', ' ')  # Get rid of newlines\n",
    "    text = text.replace('-', ' ')  # Get rid of dashes\n",
    "    text = text.replace('/', ' ')  # Get rid of slashes\n",
    "    text = text.replace(' ', '')  # Get rid of spaces\n",
    "    with open(bahnstadt_copy, 'w') as bahnstadt_file:\n",
    "        bahnstadt_file.writelines(text)"
   ],
   "metadata": {
    "collapsed": false,
    "pycharm": {
     "name": "#%%\n"
    }
   }
  },
  {
   "cell_type": "code",
   "execution_count": 206,
   "outputs": [],
   "source": [
    "format_bahnstadt()"
   ],
   "metadata": {
    "collapsed": false,
    "pycharm": {
     "name": "#%%\n"
    }
   }
  },
  {
   "cell_type": "markdown",
   "source": [
    "Now, we get all numbers that:\n",
    "- are so called 'Notrufnummern' (3 to 6 digits)\n",
    "- start with '0' and are longer than 5 (normal numbers without prefix or with prefix, use prefix from number before)\n",
    "- are not prefixed by a string containing 'fax'"
   ],
   "metadata": {
    "collapsed": false
   }
  },
  {
   "cell_type": "code",
   "execution_count": 207,
   "outputs": [],
   "source": [
    "def find_numbers_bahnstadt() -> list:\n",
    "    \"\"\"\n",
    "    Searches inside the bahnstadt copy txt file for valid phone numbers.\n",
    "    :return: List of numbers found in txt file.\n",
    "    \"\"\"\n",
    "    matches = []\n",
    "    fax_numbers = []\n",
    "    bahnstadt_copy = [flyer for flyer in files_flyers_copy if 'bahnstadt' in flyer][0]\n",
    "    text = \"\"\n",
    "    with open(bahnstadt_copy, 'r') as bahnstadt_file:\n",
    "        text += bahnstadt_file.read()\n",
    "    for match in re.findall(r'(110|112|115|116117|19222|116006)', text):\n",
    "        matches.append(match)\n",
    "    for match in re.findall(r'0[1-9][0-9]{6,12}', text):\n",
    "        matches.append(match)\n",
    "    for match in re.findall(r'[a-zA-Z]*fax[a-zA-Z]*(\\d+)', text, flags=re.I):  # find all fax numbers\n",
    "        fax_numbers.append(match)\n",
    "    matches = [match for match in matches if match not in fax_numbers]  # remove fax numbers from solution\n",
    "    return list(set(matches))  # convert to set to remove duplicates"
   ],
   "metadata": {
    "collapsed": false,
    "pycharm": {
     "name": "#%%\n"
    }
   }
  },
  {
   "cell_type": "markdown",
   "source": [
    "Add numbers from bahnstadt to numbers array"
   ],
   "metadata": {
    "collapsed": false
   }
  },
  {
   "cell_type": "code",
   "execution_count": 208,
   "outputs": [],
   "source": [
    "for number in find_numbers_bahnstadt():\n",
    "    numbers.append(number)"
   ],
   "metadata": {
    "collapsed": false,
    "pycharm": {
     "name": "#%%\n"
    }
   }
  },
  {
   "cell_type": "markdown",
   "source": [
    "Prepare bundeswehr file"
   ],
   "metadata": {
    "collapsed": false
   }
  },
  {
   "cell_type": "code",
   "execution_count": 209,
   "outputs": [],
   "source": [
    "def format_bundeswehr():\n",
    "    \"\"\"\n",
    "    Formats the bahnstadt copy txt file and prepares it for analysis.\n",
    "    \"\"\"\n",
    "    bundeswehr_copy = [flyer for flyer in files_flyers_copy if 'bundeswehr' in flyer][0]\n",
    "    text = \"\"\n",
    "    with open(bundeswehr_copy, 'r') as bundeswehr_file:\n",
    "        text += bundeswehr_file.read()\n",
    "    text = text.replace('\\n', ' ')  # Get rid of newlines\n",
    "    text = text.replace('-', ' ')  # Get rid of dashes\n",
    "    text = text.replace('/', ' ')  # Get rid of slashes\n",
    "    text = text.replace(' ', '')  # Get rid of spaces\n",
    "    with open(bundeswehr_copy, 'w') as bundeswehr_file:\n",
    "        bundeswehr_file.writelines(text)"
   ],
   "metadata": {
    "collapsed": false,
    "pycharm": {
     "name": "#%%\n"
    }
   }
  },
  {
   "cell_type": "code",
   "execution_count": 210,
   "outputs": [],
   "source": [
    "format_bundeswehr()"
   ],
   "metadata": {
    "collapsed": false,
    "pycharm": {
     "name": "#%%\n"
    }
   }
  },
  {
   "cell_type": "markdown",
   "source": [
    "It is (at least for us) impossible to tell when looking at the txt file that was generated what a telephone and what a fax number is.\n",
    "So for this part, we will ignore all numbers but the first one for each entry. This is fine for the majority of cases.\n",
    "The only exception is, when we find four numbers, then we add the first and second to last ones to our solution."
   ],
   "metadata": {
    "collapsed": false
   }
  },
  {
   "cell_type": "code",
   "execution_count": 211,
   "outputs": [],
   "source": [
    "def find_numbers_bundeswehr() -> list:\n",
    "    \"\"\"\n",
    "    Searches inside the bundeswehr copy txt file for valid phone numbers.\n",
    "    :return: List of numbers found in txt file.\n",
    "    \"\"\"\n",
    "    matches = []\n",
    "    bundeswehr_copy = [flyer for flyer in files_flyers_copy if 'bundeswehr' in flyer][0]\n",
    "    text = \"\"\n",
    "    with open(bundeswehr_copy, 'r') as bundeswehr_file:\n",
    "        text += bundeswehr_file.read()\n",
    "    for match in re.findall(r'(\\+\\d+)\\+\\d+(\\+\\d+)\\+\\d+', text):  # extract two phone numbers in case four numbers were found\n",
    "        matches.append(match[0])\n",
    "        matches.append(match[1])\n",
    "    for match in re.findall(r'(\\+\\d+)\\+\\d+(\\+\\d+)[^+]', text):  # extract two phone numbers in case three numbers where found. In almost all cases, when three numbers were provided they are in the order phone, fax, phone\n",
    "        matches.append(match[0])\n",
    "        matches.append(match[1])\n",
    "    for match in re.findall(r'(\\+\\d+)\\+\\d+[^+]', text):  # extract phone number in case only one number is found\n",
    "        matches.append(match)\n",
    "    return list(set(matches))  # convert to set to remove duplicates"
   ],
   "metadata": {
    "collapsed": false,
    "pycharm": {
     "name": "#%%\n"
    }
   }
  },
  {
   "cell_type": "code",
   "execution_count": 212,
   "outputs": [],
   "source": [
    "for number in find_numbers_bundeswehr():\n",
    "    numbers.append(number)"
   ],
   "metadata": {
    "collapsed": false,
    "pycharm": {
     "name": "#%%\n"
    }
   }
  },
  {
   "cell_type": "markdown",
   "source": [
    "Lastly we look at the wegweiser_senioren.pdf.\n",
    "Again, we start by formatting the file."
   ],
   "metadata": {
    "collapsed": false
   }
  },
  {
   "cell_type": "code",
   "execution_count": 213,
   "outputs": [],
   "source": [
    "def format_wegweiser_senioren():\n",
    "    \"\"\"\n",
    "    Formats the wegweiser_senioren copy txt file and prepares it for analysis.\n",
    "    \"\"\"\n",
    "    wegweiser_senioren_copy = [flyer for flyer in files_flyers_copy if 'wegweiser_senioren' in flyer][0]\n",
    "    text = \"\"\n",
    "    with open(wegweiser_senioren_copy, 'r') as wegweiser_senioren_file:\n",
    "        text += wegweiser_senioren_file.read()\n",
    "    text = text.replace('\\n', ' ')  # Get rid of newlines\n",
    "    text = text.replace('-', ' ')  # Get rid of dashes\n",
    "    text = text.replace('/', ' ')  # Get rid of slashes\n",
    "    text = text.replace('(', ' ')  # Remove parentheses\n",
    "    text = text.replace(')', ' ')  # Remove parentheses\n",
    "    text = re.sub(r'[^\\x00-\\x7F]+',' ', text)  # Get rid of thin spaces and other unicode characters\n",
    "    text = text.replace(' ', '')  # Get rid of spaces\n",
    "    with open(wegweiser_senioren_copy, 'w') as wegweiser_senioren_file:\n",
    "        wegweiser_senioren_file.writelines(text)"
   ],
   "metadata": {
    "collapsed": false,
    "pycharm": {
     "name": "#%%\n"
    }
   }
  },
  {
   "cell_type": "code",
   "execution_count": 214,
   "outputs": [],
   "source": [
    "format_wegweiser_senioren()"
   ],
   "metadata": {
    "collapsed": false,
    "pycharm": {
     "name": "#%%\n"
    }
   }
  },
  {
   "cell_type": "markdown",
   "source": [
    "Now we start extracting numbers again.\n",
    "This time we are in a similar situation to the bahnstadt.pdf problem. We have to filter for fax numbers again. Additionally the format is different."
   ],
   "metadata": {
    "collapsed": false
   }
  },
  {
   "cell_type": "code",
   "execution_count": 215,
   "outputs": [],
   "source": [
    "def find_numbers_wegweiser_senioren() -> list:\n",
    "    \"\"\"\n",
    "    Searches inside the wegweiser_senioren copy txt file for valid phone numbers.\n",
    "    :return: List of numbers found in txt file.\n",
    "    \"\"\"\n",
    "    matches = []\n",
    "    fax_numbers = []\n",
    "    wegweiser_senioren_copy = [flyer for flyer in files_flyers_copy if 'wegweiser_senioren' in flyer][0]\n",
    "    text = \"\"\n",
    "    with open(wegweiser_senioren_copy, 'r') as wegweiser_senioren_file:\n",
    "        text += wegweiser_senioren_file.read()\n",
    "    for match in re.findall(r'(110|112|115|116117|19222|116006)', text):\n",
    "        matches.append(match)\n",
    "    for match in re.findall(r'0[1-9][0-9]{6,12}', text):\n",
    "        matches.append(match)\n",
    "    for match in re.findall(r'[a-zA-Z]*fax[a-zA-Z]*(\\d+)', text, flags=re.I):  # find all fax numbers\n",
    "        fax_numbers.append(match)\n",
    "    matches = [match for match in matches if match not in fax_numbers]  # remove fax numbers from solution\n",
    "    return list(set(matches))  # convert to set to remove duplicates"
   ],
   "metadata": {
    "collapsed": false,
    "pycharm": {
     "name": "#%%\n"
    }
   }
  },
  {
   "cell_type": "code",
   "execution_count": 216,
   "outputs": [],
   "source": [
    "for number in find_numbers_bundeswehr():\n",
    "    numbers.append(number)"
   ],
   "metadata": {
    "collapsed": false,
    "pycharm": {
     "name": "#%%\n"
    }
   }
  },
  {
   "cell_type": "markdown",
   "source": [
    "Now we glue everything together.\n",
    "First, we get rid of duplicates.\n",
    "Second, we bring all numbers (except emergency short numbers) in a normalized format.\n",
    "Third, we write everything in one solution file."
   ],
   "metadata": {
    "collapsed": false,
    "pycharm": {
     "name": "#%% md\n"
    }
   }
  },
  {
   "cell_type": "code",
   "execution_count": 217,
   "outputs": [],
   "source": [
    "numbers = list(set(numbers))"
   ],
   "metadata": {
    "collapsed": false,
    "pycharm": {
     "name": "#%%\n"
    }
   }
  },
  {
   "cell_type": "code",
   "execution_count": 218,
   "outputs": [],
   "source": [
    "numbers_normalized = []\n",
    "\n",
    "for number in numbers:\n",
    "    if len(number) < 7:\n",
    "        numbers_normalized.append(number)\n",
    "    elif '+' in number:\n",
    "        numbers_normalized.append(number)\n",
    "    else:\n",
    "        numbers_normalized.append('+49' + number[1:])\n"
   ],
   "metadata": {
    "collapsed": false,
    "pycharm": {
     "name": "#%%\n"
    }
   }
  },
  {
   "cell_type": "code",
   "execution_count": 220,
   "outputs": [],
   "source": [
    "with open(os.path.dirname(files_flyers[0]) + '/numbers.txt', 'w') as writefile:\n",
    "    for number in numbers_normalized:\n",
    "        writefile.write(number)\n",
    "        writefile.write('\\n')"
   ],
   "metadata": {
    "collapsed": false,
    "pycharm": {
     "name": "#%%\n"
    }
   }
  },
  {
   "cell_type": "markdown",
   "source": [
    "## (ii) Extract URLs and mail addresses from PDF files in /flyers\n",
    "We start  by looking at our PDF files.\n",
    "\n",
    "Again, we make copies of the original parse work, format the files and then analyze and validate the urls and mail addresses found using the 'validator' library."
   ],
   "metadata": {
    "collapsed": false,
    "pycharm": {
     "name": "#%% md\n"
    }
   }
  },
  {
   "cell_type": "code",
   "execution_count": 223,
   "outputs": [],
   "source": [
    "files_flyers_copy.clear()\n",
    "def copy_subpart2_files():\n",
    "    \"\"\"\n",
    "    Copies the txt files used for the analysis. Keeps the file name, adds '_subpartX'.\n",
    "    \"\"\"\n",
    "    for flyer in files_flyers:\n",
    "        shutil.copy(flyer, flyer.replace('.txt','_subpart2.txt'))\n",
    "        files_flyers_copy.append(flyer.replace('.txt', '_subpart2.txt'))"
   ],
   "metadata": {
    "collapsed": false,
    "pycharm": {
     "name": "#%%\n"
    }
   }
  },
  {
   "cell_type": "code",
   "execution_count": 224,
   "outputs": [],
   "source": [
    "copy_subpart2_files()"
   ],
   "metadata": {
    "collapsed": false,
    "pycharm": {
     "name": "#%%\n"
    }
   }
  },
  {
   "cell_type": "markdown",
   "source": [
    "Define arrays to save urls and mail addresses to."
   ],
   "metadata": {
    "collapsed": false
   }
  },
  {
   "cell_type": "code",
   "execution_count": 226,
   "outputs": [],
   "source": [
    "urls = []\n",
    "mail_addresses = []"
   ],
   "metadata": {
    "collapsed": false,
    "pycharm": {
     "name": "#%%\n"
    }
   }
  },
  {
   "cell_type": "markdown",
   "source": [
    "Let's begin with the bahnstadt.pdf file."
   ],
   "metadata": {
    "collapsed": false
   }
  },
  {
   "cell_type": "code",
   "execution_count": 237,
   "outputs": [],
   "source": [
    "def format_bahnstadt_url_mail():\n",
    "    \"\"\"\n",
    "    Formats the bahnstadt copy txt file and prepares it for analysis.\n",
    "    \"\"\"\n",
    "    bahnstadt_copy = [flyer for flyer in files_flyers_copy if 'bahnstadt' in flyer][0]\n",
    "    text = \"\"\n",
    "    with open(bahnstadt_copy, 'r') as bahnstadt_file:\n",
    "        text += bahnstadt_file.read()\n",
    "    text = text.replace('\\n', ' ')  # Get rid of newlines\n",
    "    with open(bahnstadt_copy, 'w') as bahnstadt_file:\n",
    "        bahnstadt_file.writelines(text)"
   ],
   "metadata": {
    "collapsed": false,
    "pycharm": {
     "name": "#%%\n"
    }
   }
  },
  {
   "cell_type": "code",
   "execution_count": 238,
   "outputs": [],
   "source": [
    "format_bahnstadt_url_mail()"
   ],
   "metadata": {
    "collapsed": false,
    "pycharm": {
     "name": "#%%\n"
    }
   }
  },
  {
   "cell_type": "markdown",
   "source": [
    "First find urls in bahnstadt text."
   ],
   "metadata": {
    "collapsed": false
   }
  },
  {
   "cell_type": "code",
   "execution_count": 286,
   "outputs": [],
   "source": [
    "def find_urls_bahnstadt() -> list:\n",
    "    \"\"\"\n",
    "    Searches inside the bahnstadt copy txt file for valid urls.\n",
    "    :return: List of urls found in txt file.\n",
    "    \"\"\"\n",
    "    potential_urls = []\n",
    "    final_urls = []\n",
    "    bahnstadt_copy = [flyer for flyer in files_flyers_copy if 'bahnstadt' in flyer][0]\n",
    "    text = \"\"\n",
    "    with open(bahnstadt_copy, 'r') as bahnstadt_file:\n",
    "        text += bahnstadt_file.read()\n",
    "    text = text.split(' ')\n",
    "    for element in text:\n",
    "        if '.' in element:\n",
    "            potential_urls.append(element)\n",
    "\n",
    "    # Source: https://stackoverflow.com/questions/7160737/how-to-validate-a-url-in-python-malformed-or-not (Answer by cetver)\n",
    "    is_url = re.compile(\n",
    "        r'(?:(?:[A-Z0-9](?:[A-Z0-9-]{0,61}[A-Z0-9])?\\.)+(?:[A-Z]{2,6}\\.?|[A-Z0-9-]{2,}\\.?)|' #domain...\n",
    "        r'localhost|' #localhost...\n",
    "        r'\\d{1,3}\\.\\d{1,3}\\.\\d{1,3}\\.\\d{1,3})' # ...or ip\n",
    "        r'(?::\\d+)?' # optional port\n",
    "        r'(?:/?|[/?]\\S+)$', re.IGNORECASE)\n",
    "\n",
    "    for url in potential_urls:\n",
    "        if re.match(is_url, url) is not None:\n",
    "            final_urls.append(url)\n",
    "    \n",
    "    return list(set(final_urls))  # convert to set to remove duplicates"
   ],
   "metadata": {
    "collapsed": false,
    "pycharm": {
     "name": "#%%\n"
    }
   }
  },
  {
   "cell_type": "code",
   "execution_count": 287,
   "outputs": [
    {
     "data": {
      "text/plain": "['www.tg-heidelberg.de',\n 'ducento.de',\n 'www.fgz-heidelberg.de',\n 'wachsen.Seniorinnen',\n '230.000',\n '2.400',\n 'www.malteser-hausnotruf.deZuhause',\n '29.11.2011.',\n '12.600',\n 'geht.Bestattungshaus',\n 'Trauerfall.Zentralruf',\n 'an.Zum',\n 'www.offener-mrt.com',\n '12.30',\n 'www.bestattungshaus-heidelberg.deFamilie',\n 'ist.Das',\n 'arbeiten.FrauenGesundheitsZentrum',\n 'www.twitt',\n '2.000',\n 'Standard.Operieren',\n '7.200',\n 'www.tcm',\n '2.00032',\n 'St.-Josef-Krankenhaus',\n 'anpfiff-vereinsberatung.de28',\n 'www.swhd.de/sicherdaheim68',\n '5.700',\n 'www.hd-bergheim.de.',\n '4.500',\n 'www.seniorenzentren-hd.de.',\n 'www.facebook.com/FGZHeidelberg',\n 'er.com/FgzHeidelberg',\n '22.000',\n 'Lebensphasen.BiBeZ',\n 'Planeten.Folgende',\n 'ueller.de',\n 'BAZ-MEDIEN.DE',\n 'www.zahnarzt-heidelberg-kirchheim.de',\n '20.000',\n '5.853',\n 'e.V.in',\n '6.410',\n 'www.vhs-hd.de',\n 'Denkmalschutz.Die',\n 'bundespolizei.de',\n 'Hompage.34',\n 'www.helmholtz-heidelberg.de',\n '6.800',\n 'www.theatergemeinde-heidelberg.deSchnupper-Abo',\n '17.30',\n '23.11.1893',\n 'www.pestalozzischule-heidelberg.de',\n 'www.bahnstadtverein.de/.',\n '13.30',\n 'Standard.Das',\n 'www.weststadtverein.de',\n '12.000',\n 'www.heidelbergerprivatschulcen-trum.de',\n '15.30',\n 'www.lack-m',\n '7.000',\n '14.12.21',\n 'www.frauennotruf-heidelberg.de',\n '207.340',\n 'www.as-airportservice.de',\n 'www.bundespolizei.de',\n 'www.landhausschule.de/',\n 'www.tcm-akupunktur-greten.deHaus',\n 'www.malteser-menueservice.de',\n 'www.kreisverkehrswacht-rhein-neckar.de12',\n 'www.malteser.de',\n 'www.offener-mrt.comMehr',\n 'WWW.BAZ-MEDIEN.DEMARTINA',\n '6.000',\n 'HEIDELBERGducento.de',\n 'www.dgtcm.de',\n 'www.dgtcm.de66',\n 'www.wilckensschule-heidelberg.de',\n 'www.musikschule.heidelberg.de',\n 'www.bibez.de',\n 'weststadtverein.de',\n '1.200',\n 'www.ihkkg.de',\n 'www.weststadtverein.de/Festbuch',\n 'Weinstr.INHALT',\n 'bietet.Seniorenzentrum',\n 'www.selbsthilfe-heidelberg.de',\n 'ein.Sehenswert',\n '1.600',\n 'www.kirche-in-der-bahnstadt.de',\n '3.079',\n 'swhd.de/',\n 'Neckars.2019',\n 'Dr.Diana',\n 'die-komplizen.de',\n '5.000',\n 'n.Chr.',\n 'www.jgs-heidelberg.deAls',\n '100.000',\n 'www.marie-marcks-schule.deMusik-',\n 'www.bahnstadtverein.de/',\n 'www.johanniter-baden.de']"
     },
     "execution_count": 287,
     "metadata": {},
     "output_type": "execute_result"
    }
   ],
   "source": [
    "find_urls_bahnstadt()"
   ],
   "metadata": {
    "collapsed": false,
    "pycharm": {
     "name": "#%%\n"
    }
   }
  },
  {
   "cell_type": "code",
   "execution_count": null,
   "outputs": [],
   "source": [],
   "metadata": {
    "collapsed": false,
    "pycharm": {
     "name": "#%%\n"
    }
   }
  }
 ],
 "metadata": {
  "kernelspec": {
   "display_name": "Python 3",
   "language": "python",
   "name": "python3"
  },
  "language_info": {
   "codemirror_mode": {
    "name": "ipython",
    "version": 2
   },
   "file_extension": ".py",
   "mimetype": "text/x-python",
   "name": "python",
   "nbconvert_exporter": "python",
   "pygments_lexer": "ipython2",
   "version": "2.7.6"
  }
 },
 "nbformat": 4,
 "nbformat_minor": 0
}