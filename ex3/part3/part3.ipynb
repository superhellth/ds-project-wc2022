{
 "cells": [
  {
   "cell_type": "markdown",
   "metadata": {
    "collapsed": false
   },
   "source": [
    "# Assignment 1, ex3, part3\n",
    "by Raphael Ebner, Nicolas Hellthaler, Bastian Müller"
   ]
  },
  {
   "cell_type": "code",
   "execution_count": 5,
   "metadata": {
    "collapsed": false,
    "pycharm": {
     "name": "#%%\n"
    }
   },
   "outputs": [],
   "source": [
    "# Imports\n",
    "# File utils\n",
    "import os\n",
    "import shutil\n",
    "\n",
    "# Analyzing tools\n",
    "import re\n",
    "import validators\n",
    "import requests\n",
    "from itertools import product"
   ]
  },
  {
   "cell_type": "markdown",
   "metadata": {
    "collapsed": false
   },
   "source": [
    "Get arrays with paths to all .txt files generated using 'pypdf2'."
   ]
  },
  {
   "cell_type": "code",
   "execution_count": 4,
   "metadata": {
    "collapsed": true
   },
   "outputs": [],
   "source": [
    "folders = ['flyers', 'iban', 'scans']\n",
    "files = []\n",
    "\n",
    "for folder in folders:\n",
    "    for file in os.listdir(os.path.join(os.path.dirname(os.path.dirname(os.getcwd())), 'files', folder)):\n",
    "        name, ext = os.path.splitext(file)\n",
    "        if ext == '.pdf':\n",
    "            path = os.path.join(os.path.dirname(os.path.dirname(os.getcwd())), 'files', folder, file)\n",
    "            files.append(os.path.join(os.path.dirname(path), os.path.splitext(file)[0] + \"_\" + \"pypdf2\" + \".txt\"))\n",
    "\n",
    "files_flyers = [file for file in files if \"flyers\" in file]\n",
    "files_flyers_copy = []\n",
    "files_iban = [file for file in files if \"iban\" in file]\n",
    "files_iban_copy = []\n",
    "files_scans = [file for file in files if \"scans\" in file]\n",
    "files_scans_copy = []"
   ]
  },
  {
   "cell_type": "markdown",
   "metadata": {
    "collapsed": false
   },
   "source": [
    "## (i) Extract phone numbers from PDF files in /flyers\n",
    "We start by identifying what format the phone numbers are in by looking at our PDF files."
   ]
  },
  {
   "cell_type": "markdown",
   "metadata": {
    "collapsed": false
   },
   "source": [
    "Takeaways bahnstadt.pdf\n",
    "- Most start with 0\n",
    "- Have to exclude fax numbers, often prefixed by 'Fax' or 'Telefax'\n",
    "- Different formats like '0621 / 89..' or '0621 - 89 ..'\n",
    "- Different length\n",
    "- Some phone numbers don't have a prefix because the prefix is mentioned in the row above (no solution found)\n",
    "\n",
    "Takeaways bundeswehr.pdf\n",
    "- Only use first number, second (if exists) is fax number\n",
    "- 'Telephone IVB' in third column?\n",
    "\n",
    "Takeaways wegweiser_senioren.pdf\n",
    "- Different formats '(0621) 89 ..'\n",
    "- Again sometimes no prefix, e.g. '(0 62 21) 58-38340, 58-38330'\n",
    "- Replace thin spaces in txt file"
   ]
  },
  {
   "cell_type": "markdown",
   "metadata": {
    "collapsed": false
   },
   "source": [
    "First we copy each txt file to format it later."
   ]
  },
  {
   "cell_type": "code",
   "execution_count": 5,
   "metadata": {
    "collapsed": false,
    "pycharm": {
     "name": "#%%\n"
    }
   },
   "outputs": [],
   "source": [
    "def copy_subpart1_files():\n",
    "    \"\"\"\n",
    "    Copies the txt files used for the analysis. Keeps the file name, adds '_subpartX'.\n",
    "    \"\"\"\n",
    "    for flyer in files_flyers:\n",
    "        shutil.copy(flyer, flyer.replace('.txt','_subpart1.txt'))\n",
    "        files_flyers_copy.append(flyer.replace('.txt', '_subpart1.txt'))"
   ]
  },
  {
   "cell_type": "code",
   "execution_count": 6,
   "metadata": {
    "collapsed": false,
    "pycharm": {
     "name": "#%%\n"
    }
   },
   "outputs": [],
   "source": [
    "copy_subpart1_files()"
   ]
  },
  {
   "cell_type": "markdown",
   "metadata": {
    "collapsed": false
   },
   "source": [
    "Based on the findings above we write three different algorithms to takle each .pdf file individually.\n",
    "We start by formatting the txt files and then make use of regex extensively."
   ]
  },
  {
   "cell_type": "code",
   "execution_count": 7,
   "metadata": {
    "collapsed": false,
    "pycharm": {
     "name": "#%%\n"
    }
   },
   "outputs": [],
   "source": [
    "numbers = []"
   ]
  },
  {
   "cell_type": "code",
   "execution_count": 8,
   "metadata": {
    "collapsed": false,
    "pycharm": {
     "name": "#%%\n"
    }
   },
   "outputs": [],
   "source": [
    "def format_bahnstadt():\n",
    "    \"\"\"\n",
    "    Formats the bahnstadt copy txt file and prepares it for analysis.\n",
    "    \"\"\"\n",
    "    bahnstadt_copy = [flyer for flyer in files_flyers_copy if 'bahnstadt' in flyer][0]\n",
    "    text = \"\"\n",
    "    with open(bahnstadt_copy, 'r') as bahnstadt_file:\n",
    "        text += bahnstadt_file.read()\n",
    "    text = text.replace('\\n', ' ')  # Get rid of newlines\n",
    "    text = text.replace('-', ' ')  # Get rid of dashes\n",
    "    text = text.replace('/', ' ')  # Get rid of slashes\n",
    "    text = text.replace(' ', '')  # Get rid of spaces\n",
    "    with open(bahnstadt_copy, 'w') as bahnstadt_file:\n",
    "        bahnstadt_file.writelines(text)"
   ]
  },
  {
   "cell_type": "code",
   "execution_count": 9,
   "metadata": {
    "collapsed": false,
    "pycharm": {
     "name": "#%%\n"
    }
   },
   "outputs": [],
   "source": [
    "format_bahnstadt()"
   ]
  },
  {
   "cell_type": "markdown",
   "metadata": {
    "collapsed": false
   },
   "source": [
    "Now, we get all numbers that:\n",
    "- are so called 'Notrufnummern' (3 to 6 digits)\n",
    "- start with '0' and are longer than 5 (normal numbers without prefix or with prefix, use prefix from number before)\n",
    "- are not prefixed by a string containing 'fax'"
   ]
  },
  {
   "cell_type": "code",
   "execution_count": 10,
   "metadata": {
    "collapsed": false,
    "pycharm": {
     "name": "#%%\n"
    }
   },
   "outputs": [],
   "source": [
    "def find_numbers_bahnstadt() -> list:\n",
    "    \"\"\"\n",
    "    Searches inside the bahnstadt copy txt file for valid phone numbers.\n",
    "    :return: List of numbers found in txt file.\n",
    "    \"\"\"\n",
    "    matches = []\n",
    "    fax_numbers = []\n",
    "    bahnstadt_copy = [flyer for flyer in files_flyers_copy if 'bahnstadt' in flyer][0]\n",
    "    text = \"\"\n",
    "    with open(bahnstadt_copy, 'r') as bahnstadt_file:\n",
    "        text += bahnstadt_file.read()\n",
    "    for match in re.findall(r'(110|112|115|116117|19222|116006)', text):\n",
    "        matches.append(match)\n",
    "    for match in re.findall(r'0[1-9][0-9]{6,12}', text):\n",
    "        matches.append(match)\n",
    "    for match in re.findall(r'[a-zA-Z]*fax[a-zA-Z]*(\\d+)', text, flags=re.I):  # find all fax numbers\n",
    "        fax_numbers.append(match)\n",
    "    matches = [match for match in matches if match not in fax_numbers]  # remove fax numbers from solution\n",
    "    return list(set(matches))  # convert to set to remove duplicates"
   ]
  },
  {
   "cell_type": "markdown",
   "metadata": {
    "collapsed": false
   },
   "source": [
    "Add numbers from bahnstadt to numbers array"
   ]
  },
  {
   "cell_type": "code",
   "execution_count": 11,
   "metadata": {
    "collapsed": false,
    "pycharm": {
     "name": "#%%\n"
    }
   },
   "outputs": [],
   "source": [
    "for number in find_numbers_bahnstadt():\n",
    "    numbers.append(number)"
   ]
  },
  {
   "cell_type": "markdown",
   "metadata": {
    "collapsed": false
   },
   "source": [
    "Prepare bundeswehr file"
   ]
  },
  {
   "cell_type": "code",
   "execution_count": 12,
   "metadata": {
    "collapsed": false,
    "pycharm": {
     "name": "#%%\n"
    }
   },
   "outputs": [],
   "source": [
    "def format_bundeswehr():\n",
    "    \"\"\"\n",
    "    Formats the bahnstadt copy txt file and prepares it for analysis.\n",
    "    \"\"\"\n",
    "    bundeswehr_copy = [flyer for flyer in files_flyers_copy if 'bundeswehr' in flyer][0]\n",
    "    text = \"\"\n",
    "    with open(bundeswehr_copy, 'r') as bundeswehr_file:\n",
    "        text += bundeswehr_file.read()\n",
    "    text = text.replace('\\n', ' ')  # Get rid of newlines\n",
    "    text = text.replace('-', ' ')  # Get rid of dashes\n",
    "    text = text.replace('/', ' ')  # Get rid of slashes\n",
    "    text = text.replace(' ', '')  # Get rid of spaces\n",
    "    with open(bundeswehr_copy, 'w') as bundeswehr_file:\n",
    "        bundeswehr_file.writelines(text)"
   ]
  },
  {
   "cell_type": "code",
   "execution_count": 13,
   "metadata": {
    "collapsed": false,
    "pycharm": {
     "name": "#%%\n"
    }
   },
   "outputs": [],
   "source": [
    "format_bundeswehr()"
   ]
  },
  {
   "cell_type": "markdown",
   "metadata": {
    "collapsed": false
   },
   "source": [
    "It is (at least for us) impossible to tell when looking at the txt file that was generated what a telephone and what a fax number is.\n",
    "So for this part, we will ignore all numbers but the first one for each entry. This is fine for the majority of cases.\n",
    "The only exception is, when we find four numbers, then we add the first and second to last ones to our solution."
   ]
  },
  {
   "cell_type": "code",
   "execution_count": 14,
   "metadata": {
    "collapsed": false,
    "pycharm": {
     "name": "#%%\n"
    }
   },
   "outputs": [],
   "source": [
    "def find_numbers_bundeswehr() -> list:\n",
    "    \"\"\"\n",
    "    Searches inside the bundeswehr copy txt file for valid phone numbers.\n",
    "    :return: List of numbers found in txt file.\n",
    "    \"\"\"\n",
    "    matches = []\n",
    "    bundeswehr_copy = [flyer for flyer in files_flyers_copy if 'bundeswehr' in flyer][0]\n",
    "    text = \"\"\n",
    "    with open(bundeswehr_copy, 'r') as bundeswehr_file:\n",
    "        text += bundeswehr_file.read()\n",
    "    for match in re.findall(r'(\\+\\d+)\\+\\d+(\\+\\d+)\\+\\d+', text):  # extract two phone numbers in case four numbers were found\n",
    "        matches.append(match[0])\n",
    "        matches.append(match[1])\n",
    "    for match in re.findall(r'(\\+\\d+)\\+\\d+(\\+\\d+)[^+]', text):  # extract two phone numbers in case three numbers where found. In almost all cases, when three numbers were provided they are in the order phone, fax, phone\n",
    "        matches.append(match[0])\n",
    "        matches.append(match[1])\n",
    "    for match in re.findall(r'(\\+\\d+)\\+\\d+[^+]', text):  # extract phone number in case only one number is found\n",
    "        matches.append(match)\n",
    "    return list(set(matches))  # convert to set to remove duplicates"
   ]
  },
  {
   "cell_type": "code",
   "execution_count": 15,
   "metadata": {
    "collapsed": false,
    "pycharm": {
     "name": "#%%\n"
    }
   },
   "outputs": [],
   "source": [
    "for number in find_numbers_bundeswehr():\n",
    "    numbers.append(number)"
   ]
  },
  {
   "cell_type": "markdown",
   "metadata": {
    "collapsed": false
   },
   "source": [
    "Lastly we look at the wegweiser_senioren.pdf.\n",
    "Again, we start by formatting the file."
   ]
  },
  {
   "cell_type": "code",
   "execution_count": 16,
   "metadata": {
    "collapsed": false,
    "pycharm": {
     "name": "#%%\n"
    }
   },
   "outputs": [],
   "source": [
    "def format_wegweiser_senioren():\n",
    "    \"\"\"\n",
    "    Formats the wegweiser_senioren copy txt file and prepares it for analysis.\n",
    "    \"\"\"\n",
    "    wegweiser_senioren_copy = [flyer for flyer in files_flyers_copy if 'wegweiser_senioren' in flyer][0]\n",
    "    text = \"\"\n",
    "    with open(wegweiser_senioren_copy, 'r') as wegweiser_senioren_file:\n",
    "        text += wegweiser_senioren_file.read()\n",
    "    text = text.replace('\\n', ' ')  # Get rid of newlines\n",
    "    text = text.replace('-', ' ')  # Get rid of dashes\n",
    "    text = text.replace('/', ' ')  # Get rid of slashes\n",
    "    text = text.replace('(', ' ')  # Remove parentheses\n",
    "    text = text.replace(')', ' ')  # Remove parentheses\n",
    "    text = re.sub(r'[^\\x00-\\x7F]+',' ', text)  # Get rid of thin spaces and other unicode characters\n",
    "    text = text.replace(' ', '')  # Get rid of spaces\n",
    "    with open(wegweiser_senioren_copy, 'w') as wegweiser_senioren_file:\n",
    "        wegweiser_senioren_file.writelines(text)"
   ]
  },
  {
   "cell_type": "code",
   "execution_count": 17,
   "metadata": {
    "collapsed": false,
    "pycharm": {
     "name": "#%%\n"
    }
   },
   "outputs": [],
   "source": [
    "format_wegweiser_senioren()"
   ]
  },
  {
   "cell_type": "markdown",
   "metadata": {
    "collapsed": false
   },
   "source": [
    "Now we start extracting numbers again.\n",
    "This time we are in a similar situation to the bahnstadt.pdf problem. We have to filter for fax numbers again. Additionally the format is different."
   ]
  },
  {
   "cell_type": "code",
   "execution_count": 18,
   "metadata": {
    "collapsed": false,
    "pycharm": {
     "name": "#%%\n"
    }
   },
   "outputs": [],
   "source": [
    "def find_numbers_wegweiser_senioren() -> list:\n",
    "    \"\"\"\n",
    "    Searches inside the wegweiser_senioren copy txt file for valid phone numbers.\n",
    "    :return: List of numbers found in txt file.\n",
    "    \"\"\"\n",
    "    matches = []\n",
    "    fax_numbers = []\n",
    "    wegweiser_senioren_copy = [flyer for flyer in files_flyers_copy if 'wegweiser_senioren' in flyer][0]\n",
    "    text = \"\"\n",
    "    with open(wegweiser_senioren_copy, 'r') as wegweiser_senioren_file:\n",
    "        text += wegweiser_senioren_file.read()\n",
    "    for match in re.findall(r'(110|112|115|116117|19222|116006)', text):\n",
    "        matches.append(match)\n",
    "    for match in re.findall(r'0[1-9][0-9]{6,12}', text):\n",
    "        matches.append(match)\n",
    "    for match in re.findall(r'[a-zA-Z]*fax[a-zA-Z]*(\\d+)', text, flags=re.I):  # find all fax numbers\n",
    "        fax_numbers.append(match)\n",
    "    matches = [match for match in matches if match not in fax_numbers]  # remove fax numbers from solution\n",
    "    return list(set(matches))  # convert to set to remove duplicates"
   ]
  },
  {
   "cell_type": "code",
   "execution_count": 19,
   "metadata": {
    "collapsed": false,
    "pycharm": {
     "name": "#%%\n"
    }
   },
   "outputs": [],
   "source": [
    "for number in find_numbers_bundeswehr():\n",
    "    numbers.append(number)"
   ]
  },
  {
   "cell_type": "markdown",
   "metadata": {
    "collapsed": false,
    "pycharm": {
     "name": "#%% md\n"
    }
   },
   "source": [
    "Now we glue everything together.\n",
    "First, we get rid of duplicates.\n",
    "Second, we bring all numbers (except emergency short numbers) in a normalized format.\n",
    "Third, we write everything in one solution file."
   ]
  },
  {
   "cell_type": "code",
   "execution_count": 20,
   "metadata": {
    "collapsed": false,
    "pycharm": {
     "name": "#%%\n"
    }
   },
   "outputs": [],
   "source": [
    "numbers = list(set(numbers))"
   ]
  },
  {
   "cell_type": "code",
   "execution_count": 21,
   "metadata": {
    "collapsed": false,
    "pycharm": {
     "name": "#%%\n"
    }
   },
   "outputs": [],
   "source": [
    "numbers_normalized = []\n",
    "\n",
    "for number in numbers:\n",
    "    if len(number) < 7:\n",
    "        numbers_normalized.append(number)\n",
    "    elif '+' in number:\n",
    "        numbers_normalized.append(number)\n",
    "    else:\n",
    "        numbers_normalized.append('+49' + number[1:])\n"
   ]
  },
  {
   "cell_type": "code",
   "execution_count": 22,
   "metadata": {
    "collapsed": false,
    "pycharm": {
     "name": "#%%\n"
    }
   },
   "outputs": [],
   "source": [
    "with open(os.path.dirname(files_flyers[0]) + '/numbers.txt', 'w') as writefile:\n",
    "    for number in numbers_normalized:\n",
    "        writefile.write(number)\n",
    "        writefile.write('\\n')"
   ]
  },
  {
   "cell_type": "markdown",
   "metadata": {
    "collapsed": false,
    "pycharm": {
     "name": "#%% md\n"
    }
   },
   "source": [
    "## (ii) Extract URLs and mail addresses from PDF files in /flyers\n",
    "We start  by looking at our PDF files.\n",
    "\n",
    "Again, we make copies of the original parse work, format the files and then analyze and validate the urls and mail addresses found using the 'validator' library."
   ]
  },
  {
   "cell_type": "code",
   "execution_count": 23,
   "metadata": {
    "collapsed": false,
    "pycharm": {
     "name": "#%%\n"
    }
   },
   "outputs": [],
   "source": [
    "files_flyers_copy.clear()\n",
    "def copy_subpart2_files():\n",
    "    \"\"\"\n",
    "    Copies the txt files used for the analysis. Keeps the file name, adds '_subpartX'.\n",
    "    \"\"\"\n",
    "    for flyer in files_flyers:\n",
    "        shutil.copy(flyer, flyer.replace('.txt','_subpart2.txt'))\n",
    "        files_flyers_copy.append(flyer.replace('.txt', '_subpart2.txt'))"
   ]
  },
  {
   "cell_type": "code",
   "execution_count": 24,
   "metadata": {
    "collapsed": false,
    "pycharm": {
     "name": "#%%\n"
    }
   },
   "outputs": [],
   "source": [
    "copy_subpart2_files()"
   ]
  },
  {
   "cell_type": "markdown",
   "metadata": {
    "collapsed": false
   },
   "source": [
    "Define arrays to save urls and mail addresses to."
   ]
  },
  {
   "cell_type": "code",
   "execution_count": 62,
   "metadata": {
    "collapsed": false,
    "pycharm": {
     "name": "#%%\n"
    }
   },
   "outputs": [],
   "source": [
    "urls = []\n",
    "mail_addresses = []"
   ]
  },
  {
   "cell_type": "markdown",
   "metadata": {
    "collapsed": false
   },
   "source": [
    "Let's begin with the bahnstadt.pdf file."
   ]
  },
  {
   "cell_type": "code",
   "execution_count": 63,
   "metadata": {
    "collapsed": false,
    "pycharm": {
     "name": "#%%\n"
    }
   },
   "outputs": [],
   "source": [
    "def format_bahnstadt_url_mail():\n",
    "    \"\"\"\n",
    "    Formats the bahnstadt copy txt file and prepares it for analysis.\n",
    "    \"\"\"\n",
    "    bahnstadt_copy = [flyer for flyer in files_flyers_copy if 'bahnstadt' in flyer][0]\n",
    "    text = \"\"\n",
    "    with open(bahnstadt_copy, 'r') as bahnstadt_file:\n",
    "        text += bahnstadt_file.read()\n",
    "    text = text.replace('\\n', ' ')  # Get rid of newlines\n",
    "    text = text.lower()\n",
    "    with open(bahnstadt_copy, 'w') as bahnstadt_file:\n",
    "        bahnstadt_file.writelines(text)"
   ]
  },
  {
   "cell_type": "code",
   "execution_count": 64,
   "metadata": {
    "collapsed": false,
    "pycharm": {
     "name": "#%%\n"
    }
   },
   "outputs": [],
   "source": [
    "format_bahnstadt_url_mail()"
   ]
  },
  {
   "cell_type": "markdown",
   "metadata": {
    "collapsed": false
   },
   "source": [
    "First find urls in bahnstadt text."
   ]
  },
  {
   "cell_type": "code",
   "execution_count": 65,
   "metadata": {
    "collapsed": false,
    "pycharm": {
     "name": "#%%\n"
    }
   },
   "outputs": [],
   "source": [
    "def find_urls_bahnstadt() -> list:\n",
    "    \"\"\"\n",
    "    Searches inside the bahnstadt copy txt file for valid urls.\n",
    "    :return: List of urls found in txt file.\n",
    "    \"\"\"\n",
    "    potential_urls = []\n",
    "    final_urls = []\n",
    "    bahnstadt_copy = [flyer for flyer in files_flyers_copy if 'bahnstadt' in flyer][0]\n",
    "    text = \"\"\n",
    "    with open(bahnstadt_copy, 'r') as bahnstadt_file:\n",
    "        text += bahnstadt_file.read()\n",
    "    text = text.split(' ')\n",
    "    for element in text:\n",
    "        if '.' in element:  # every website contains at least one dot\n",
    "            potential_urls.append(element)\n",
    "\n",
    "    # Source: https://stackoverflow.com/questions/7160737/how-to-validate-a-url-in-python-malformed-or-not (Answer by cetver)\n",
    "    is_url_regex = re.compile(\n",
    "        r'^www.' # starts with 'www.'\n",
    "        r'(?:(?:[A-Z0-9](?:[A-Z0-9-]{0,61}[A-Z0-9])?\\.)+(?:[A-Z]{2,6}\\.?|[A-Z0-9-]{2,}\\.?)|' #domain...\n",
    "        r'localhost|' #localhost...\n",
    "        r'\\d{1,3}\\.\\d{1,3}\\.\\d{1,3}\\.\\d{1,3})' # ...or ip\n",
    "        r'(?::\\d+)?' # optional port\n",
    "        r'(?:/?|[/?]\\S+)$', re.IGNORECASE)\n",
    "\n",
    "    for url in potential_urls:\n",
    "        match = re.match(r'([\\w.-]+\\.(de|com))\\w+', url, flags=re.IGNORECASE)\n",
    "        if re.match(is_url_regex, url) is not None:\n",
    "            if match:\n",
    "                url = match.groups(0)[0]\n",
    "            try:\n",
    "                print(\"Start validating:\", url)\n",
    "                if requests.get('https://' + url, timeout=5).ok or requests.get('http://' + url, timeout=5).ok:\n",
    "                    final_urls.append(url)\n",
    "            except requests.ConnectionError:\n",
    "                print(\"Error: Url\", url, \"is not valid.\")\n",
    "            except requests.ReadTimeout:\n",
    "                print(\"Error: Timeout for\", url)\n",
    "\n",
    "    return list(set(final_urls))  # convert to set to remove duplicates"
   ]
  },
  {
   "cell_type": "code",
   "execution_count": 66,
   "metadata": {
    "collapsed": false,
    "pycharm": {
     "name": "#%%\n"
    }
   },
   "outputs": [
    {
     "name": "stdout",
     "output_type": "stream",
     "text": [
      "Start validating: www.zahnarzt-heidelberg-kirchheim.de\n",
      "Start validating: www.frauennotruf-heidelberg.de\n",
      "Start validating: www.theatergemeinde-heidelberg.de\n",
      "Start validating: www.kreisverkehrswacht-rhein-neckar.de\n",
      "Start validating: www.weststadtverein.de\n",
      "Start validating: www.bundespolizei.de\n",
      "Start validating: www.malteser.de\n",
      "Start validating: www.johanniter-baden.de\n",
      "Error: Url www.johanniter-baden.de is not valid.\n",
      "Start validating: www.fgz-heidelberg.de\n",
      "Error: Timeout for www.fgz-heidelberg.de\n",
      "Start validating: www.selbsthilfe-heidelberg.de\n",
      "Start validating: www.bahnstadtverein.de/.\n",
      "Start validating: www.bahnstadtverein.de/\n",
      "Start validating: www.offener-mrt.com\n",
      "Start validating: www.offener-mrt.com\n",
      "Start validating: www.hd-bergheim.de.\n",
      "Start validating: www.bestattungshaus-heidelberg.de\n",
      "Start validating: www.fgz-heidelberg.de\n",
      "Start validating: www.facebook.com/fgzheidelberg\n",
      "Start validating: www.bibez.de\n",
      "Start validating: www.weststadtverein.de/festbuch\n",
      "Start validating: www.ihkkg.de\n",
      "Start validating: www.vhs-hd.de\n",
      "Start validating: www.vhs-hd.de\n",
      "Start validating: www.heidelbergerprivatschulcen-trum.de\n",
      "Error: Url www.heidelbergerprivatschulcen-trum.de is not valid.\n",
      "Start validating: www.landhausschule.de/\n",
      "Start validating: www.marie-marcks-schule.de\n",
      "Start validating: www.musikschule.heidelberg.de\n",
      "Start validating: www.helmholtz-heidelberg.de\n",
      "Start validating: www.jgs-heidelberg.de\n",
      "Start validating: www.pestalozzischule-heidelberg.de\n",
      "Start validating: www.wilckensschule-heidelberg.de\n",
      "Start validating: www.tg-heidelberg.de\n",
      "Error: Url www.tg-heidelberg.de is not valid.\n",
      "Start validating: www.seniorenzentren-hd.de.\n",
      "Start validating: www.kirche-in-der-bahnstadt.de\n",
      "Start validating: www.baz-medien.de\n",
      "Error: Url www.baz-medien.de is not valid.\n",
      "Start validating: www.as-airportservice.de\n",
      "Error: Url www.as-airportservice.de is not valid.\n",
      "Start validating: www.dgtcm.de\n",
      "Start validating: www.tcm-akupunktur-greten.de\n",
      "Start validating: www.tcm-akupunktur-greten.de\n",
      "Start validating: www.dgtcm.de\n",
      "Start validating: www.swhd.de/sicherdaheim68\n",
      "Start validating: www.malteser-hausnotruf.de\n",
      "Start validating: www.malteser-menueservice.de\n"
     ]
    }
   ],
   "source": [
    "for url in find_urls_bahnstadt():\n",
    "    urls.append(url)"
   ]
  },
  {
   "cell_type": "markdown",
   "metadata": {
    "collapsed": false
   },
   "source": [
    "Let's continue with urls from the bundeswehr.pdf file."
   ]
  },
  {
   "cell_type": "code",
   "execution_count": 67,
   "metadata": {
    "collapsed": false,
    "pycharm": {
     "name": "#%%\n"
    }
   },
   "outputs": [],
   "source": [
    "def format_bundeswehr_url_mail():\n",
    "    \"\"\"\n",
    "    Formats the bahnstadt copy txt file and prepares it for analysis.\n",
    "    \"\"\"\n",
    "    bundeswehr_copy = [flyer for flyer in files_flyers_copy if 'bundeswehr' in flyer][0]\n",
    "    text = \"\"\n",
    "    with open(bundeswehr_copy, 'r') as bundeswehr_file:\n",
    "        text += bundeswehr_file.read()\n",
    "    text = text.replace('\\n', ' ')  # Get rid of newlines\n",
    "    text = text.replace(' ', '')  # Get rid of spaces\n",
    "    text = text.lower()\n",
    "    with open(bundeswehr_copy, 'w') as bundeswehr_file:\n",
    "        bundeswehr_file.writelines(text)"
   ]
  },
  {
   "cell_type": "code",
   "execution_count": 68,
   "metadata": {
    "collapsed": false,
    "pycharm": {
     "name": "#%%\n"
    }
   },
   "outputs": [],
   "source": [
    "format_bundeswehr_url_mail()"
   ]
  },
  {
   "cell_type": "code",
   "execution_count": 69,
   "metadata": {
    "collapsed": false,
    "pycharm": {
     "name": "#%%\n"
    }
   },
   "outputs": [],
   "source": [
    "def find_urls_bundeswehr() -> list:\n",
    "    \"\"\"\n",
    "    Searches inside the bundeswehr copy txt file for valid urls.\n",
    "    :return: List of urls found in txt file.\n",
    "    \"\"\"\n",
    "    potential_urls = []\n",
    "    final_urls = []\n",
    "    bundeswehr_copy = [flyer for flyer in files_flyers_copy if 'bundeswehr' in flyer][0]\n",
    "    text = \"\"\n",
    "    with open(bundeswehr_copy, 'r') as bundeswehr_file:\n",
    "        text += bundeswehr_file.read()\n",
    "\n",
    "    for match in re.findall(r'((http|https)://www\\.(\\w|-|)+\\.de)', text):  # All urls in this sheet are structured like this\n",
    "        potential_urls.append(match[0])\n",
    "\n",
    "    # The urls are sometimes written over multiple lines with '-' symbols to separate them. Sometimes this makes a found url invalid, since we don't know if the '-' is from a line break or from the url itself. So we have to try all solutions:\n",
    "    # First, let's get rid of duplicates again\n",
    "    potential_urls = list(set(potential_urls))\n",
    "\n",
    "    for potential_url in potential_urls:\n",
    "        # Source: https://stackoverflow.com/questions/14841652/string-replacement-combinations\n",
    "        options = [(c,) if c != '-' else ('-', '') for c in potential_url]\n",
    "        for index, _ in enumerate(list((''.join(o) for o in product(*options)))):\n",
    "            try:\n",
    "                if requests.get(_, timeout=5).ok:\n",
    "                    final_urls.append(potential_url)\n",
    "                    print(\"Option\", index, \"successful with\", _)\n",
    "                    break\n",
    "            except requests.ConnectionError:\n",
    "                pass\n",
    "            except requests.ReadTimeout:\n",
    "                print(\"Error: Timeout for\", url)\n",
    "\n",
    "    return list(set(final_urls))  # convert to set to remove duplicates"
   ]
  },
  {
   "cell_type": "code",
   "execution_count": 70,
   "metadata": {
    "collapsed": false,
    "pycharm": {
     "name": "#%%\n"
    }
   },
   "outputs": [
    {
     "name": "stdout",
     "output_type": "stream",
     "text": [
      "Option 0 successful with http://www.fz-borstel.de\n",
      "Option 1 successful with http://www.patentanwalt.de\n",
      "Option 1 successful with http://www.pflegebevollmaechtigte.de\n",
      "Option 0 successful with http://www.adk.de\n",
      "Option 2 successful with http://www.zukunftsforum-familie.de\n",
      "Option 0 successful with http://www.bnotk.de\n",
      "Option 1 successful with http://www.dzm-museum.de\n",
      "Option 0 successful with http://www.stiftung-evz.de\n",
      "Option 1 successful with http://www.behindertenbeauftragter.de\n",
      "Option 0 successful with http://www.mdc-berlin.de\n",
      "Option 0 successful with http://www.acatech.de\n",
      "Option 0 successful with http://www.helmholtz.de\n",
      "Option 0 successful with http://www.agj.de\n",
      "Option 0 successful with http://www.deutsche-kinemathek.de\n",
      "Option 0 successful with http://www.iom-leipzig.de\n",
      "Option 0 successful with http://www.thuenen.de\n",
      "Option 0 successful with http://www.giz.de\n",
      "Option 0 successful with http://www.awv-net.de\n",
      "Option 0 successful with http://www.leibniz-ifl.de\n",
      "Option 0 successful with http://www.staedtetag.de\n",
      "Option 0 successful with http://www.dfs.de\n",
      "Option 0 successful with http://www.dstgb.de\n",
      "Option 0 successful with http://www.umweltrat.de\n",
      "Option 1 successful with http://www.bundesdruckerei.de\n",
      "Option 1 successful with http://www.villamassimo.de\n",
      "Option 1 successful with http://www.klassik-stiftung.de\n",
      "Option 0 successful with http://www.awi.de\n",
      "Option 0 successful with http://www.dpma.de\n",
      "Option 0 successful with http://www.aok-bv.de\n",
      "Option 0 successful with http://www.agdd.de\n",
      "Option 2 successful with http://www.beauftragte-missbrauch.de\n",
      "Option 0 successful with http://www.hsu-hh.de\n",
      "Option 0 successful with http://www.bka.de\n",
      "Option 0 successful with http://www.bagkjs.de\n",
      "Option 0 successful with http://www.bzga.de\n",
      "Option 0 successful with http://www.hdg.de\n",
      "Option 0 successful with http://www.obs-ev.de\n",
      "Option 1 successful with http://www.topographie.de\n",
      "Option 1 successful with http://www.bundesfinanzhof.de\n",
      "Option 0 successful with http://www.bghw.de\n",
      "Option 0 successful with http://www.bpatg.de\n",
      "Option 0 successful with http://www.tolstoi.de\n",
      "Option 1 successful with http://www.dvv-international.de\n",
      "Option 0 successful with http://www.bibb.de\n",
      "Option 1 successful with http://www.friedensdienst.de\n",
      "Option 0 successful with http://www.helmholtz-muenchen.de\n",
      "Option 0 successful with http://www.pbeakk.de\n",
      "Option 1 successful with http://www.bundesanzeiger.de\n",
      "Option 0 successful with http://www.desy.de\n",
      "Option 0 successful with http://www.fli-leibniz.de\n",
      "Option 1 successful with http://www.atb-potsdam.de\n",
      "Option 0 successful with http://www.bgw-online.de\n",
      "Option 0 successful with http://www.irs-net.de\n",
      "Option 0 successful with http://www.bmvi.de\n",
      "Option 0 successful with http://www.geomar.de\n",
      "Option 1 successful with http://www.inp-greifswald.de\n",
      "Option 0 successful with http://www.testaments-register.de\n",
      "Option 0 successful with http://www.zfmk.de\n",
      "Option 1 successful with http://www.maxweberstiftung.de\n",
      "Option 2 successful with http://www.hambacher-schloss.de\n",
      "Option 0 successful with http://www.baua.de\n",
      "Option 0 successful with http://www.bmel.de\n",
      "Option 2 successful with http://www.schlesisches-museum.de\n",
      "Option 4 successful with http://www.kulturstiftung-des-bundes.de\n",
      "Option 0 successful with http://www.bnitm.de\n",
      "Option 0 successful with http://www.frauenrat.de\n",
      "Option 0 successful with http://www.kzbv.de\n",
      "Option 1 successful with http://www.ipk-gatersleben.de\n",
      "Option 0 successful with http://www.stiftung-ng.de\n",
      "Option 0 successful with http://www.mpg.de\n",
      "Option 0 successful with http://www.pd-g.de\n",
      "Option 0 successful with http://www.stsg.de\n",
      "Option 0 successful with http://www.bund-der-vertriebenen.de\n",
      "Option 1 successful with http://www.fbn-dummerstorf.de\n",
      "Option 2 successful with http://www.engagement-global.de\n",
      "Option 0 successful with http://www.dzne.de\n",
      "Option 0 successful with http://www.hsfk.de\n",
      "Option 0 successful with http://www.ptj.de\n",
      "Option 0 successful with http://www.dzi.de\n",
      "Option 1 successful with http://www.generalbundesanwalt.de\n",
      "Option 0 successful with http://www.ipht-jena.de\n",
      "Option 1 successful with http://www.zzf-potsdam.de\n",
      "Option 1 successful with http://www.deutschesheer.de\n",
      "Option 0 successful with http://www.bundes-kanzleramt.de\n",
      "Option 0 successful with http://www.bg-verkehr.de\n",
      "Option 0 successful with http://www.dlr.de\n",
      "Option 1 successful with http://www.drk-suchdienst.de\n",
      "Option 0 successful with http://www.bergbau-museum.de\n",
      "Option 1 successful with http://www.bundessprachenamt.de\n",
      "Option 0 successful with http://www.dvr.de\n",
      "Option 0 successful with http://www.deutscher-verein.de\n",
      "Option 0 successful with http://www.leibniz-hki.de\n",
      "Option 1 successful with http://www.bundesverwaltungsgericht.de\n",
      "Option 0 successful with http://www.dosb.de\n",
      "Option 0 successful with http://www.dife.de\n",
      "Option 1 successful with http://www.bundeswehr.de\n",
      "Option 0 successful with http://www.bmz.de\n",
      "Option 0 successful with http://www.deutsche-rentenversicherung-bund.de\n",
      "Option 0 successful with http://www.bmdv.de\n",
      "Option 0 successful with http://www.dvka.de\n",
      "Option 1 successful with http://www.bundesamtsozialesicherung.de\n",
      "Option 0 successful with http://www.svlfg.de\n",
      "Option 0 successful with http://www.bfn.de\n",
      "Option 0 successful with http://www.rosalux.de\n",
      "Option 1 successful with http://www.bundesjustizamt.de\n",
      "Option 1 successful with http://www.bundesarbeitsgericht.de\n",
      "Option 0 successful with https://www.humboldt-foundation.de\n",
      "Option 0 successful with http://www.its-arolsen.de\n",
      "Option 1 successful with http://www.bundesrechnungshof.de\n",
      "Option 1 successful with http://www.giga-hamburg.de\n",
      "Option 0 successful with http://www.ecmi.de\n",
      "Option 0 successful with http://www.ffa.de\n",
      "Option 0 successful with http://www.ufz.de\n",
      "Option 0 successful with http://www.dsmz.de\n",
      "Option 0 successful with http://www.kfw-ipex-bank.de\n",
      "Option 0 successful with http://www.fmsa.de\n",
      "Option 0 successful with http://www.drfz.de\n",
      "Option 0 successful with http://www.fes.de\n",
      "Option 0 successful with http://www.baainbw.de\n",
      "Option 0 successful with http://www.zpid.de\n",
      "Option 0 successful with http://www.itzbund.de\n",
      "Option 1 successful with http://www.umweltbundesamt.de\n",
      "Option 0 successful with http://www.bzkj.de\n",
      "Option 0 successful with http://www.dbu.de\n",
      "Option 0 successful with http://www.hzg.de\n",
      "Option 0 successful with http://www.dguv.de\n",
      "Option 0 successful with http://www.thw-bv.de\n",
      "Option 0 successful with http://www.na-bibb.de\n",
      "Option 0 successful with http://www.banst-pt.de\n",
      "Option 0 successful with http://www.wias-berlin.de\n",
      "Option 0 successful with http://www.pdi-berlin.de\n",
      "Option 0 successful with http://www.bgrci.de\n",
      "Option 0 successful with http://www.leibniz-fmp.de\n",
      "Option 1 successful with http://www.orchesterversorgung.de\n",
      "Option 0 successful with http://www.rgzm.de\n",
      "Option 0 successful with http://www.bafza.de\n",
      "Option 0 successful with http://www.martin-opitz-bibliothek.de\n",
      "Option 1 successful with http://www.bundesarchiv.de\n",
      "Option 0 successful with http://www.zla.de\n",
      "Option 1 successful with http://www.wissenschaftsrat.de\n",
      "Option 0 successful with http://www.brak.de\n",
      "Error: Timeout for www.vhs-hd.de\n",
      "Option 1 successful with http://www.io-warnemünde.de\n",
      "Option 0 successful with http://www.ptb.de\n",
      "Option 0 successful with http://www.buendnis-toleranz.de\n",
      "Option 0 successful with http://www.bam.de\n",
      "Option 0 successful with http://www.leibniz-lib.de\n",
      "Option 0 successful with http://www.isw-isb.de\n",
      "Option 0 successful with http://www.bast.de\n",
      "Option 0 successful with http://www.ipb-halle.de\n",
      "Option 0 successful with http://www.vbl.de\n",
      "Option 0 successful with http://www.profamilia.de\n",
      "Option 0 successful with http://www.bmvg.de\n",
      "Option 0 successful with http://www.daad.de\n",
      "Option 0 successful with http://www.dge.de\n",
      "Option 1 successful with http://www.bundeswehrkarriere.de\n",
      "Option 0 successful with http://www.isas.de\n",
      "Option 0 successful with http://www.dfg.de\n",
      "Option 0 successful with http://www.dbb.de\n",
      "Option 0 successful with http://www.baain.de\n",
      "Option 0 successful with http://www.destatis.de\n",
      "Option 0 successful with http://www.ipfdd.de\n",
      "Option 0 successful with http://www.thw-jugend.de\n",
      "Option 1 successful with http://www.bundesimmobilien.de\n",
      "Option 0 successful with http://www.ata-dag.de\n",
      "Option 0 successful with http://www.bundestag.de\n",
      "Option 0 successful with http://www.helmut-schmidt.de\n",
      "Error: Timeout for www.vhs-hd.de\n",
      "Option 0 successful with http://www.igzev.de\n",
      "Option 0 successful with http://www.mbi-berlin.de\n",
      "Option 0 successful with http://www.jmberlin.de\n",
      "Error: Timeout for www.vhs-hd.de\n",
      "Option 0 successful with http://www.tk.de\n",
      "Option 0 successful with http://www.wpk.de\n",
      "Option 1 successful with http://www.ids-mannheim.de\n",
      "Option 0 successful with http://www.ostrecht.de\n",
      "Option 0 successful with http://www.diw.de\n",
      "Option 0 successful with http://www.bmbf.de\n",
      "Option 0 successful with http://www.zew.de\n",
      "Option 0 successful with http://www.ilw.de\n",
      "Option 0 successful with http://www.dji.de\n",
      "Option 0 successful with http://www.wna-berlin.de\n",
      "Option 0 successful with http://www.aip.de\n",
      "Option 1 successful with http://www.gfz-potsdam.de\n",
      "Option 0 successful with http://www.kwf-online.de\n",
      "Option 1 successful with http://www.pik-potsdam.de\n",
      "Option 0 successful with http://www.dza.de\n",
      "Option 0 successful with http://www.bstbk.de\n",
      "Option 0 successful with http://www.dwd.de\n",
      "Option 0 successful with http://www.stiftung-denkmal.de\n",
      "Option 0 successful with http://www.bghm.de\n",
      "Option 1 successful with http://www.bundesfinanzministerium.de\n",
      "Option 0 successful with http://www.bafg.de\n",
      "Option 0 successful with http://www.fz-juelich.de\n",
      "Option 1 successful with http://www.buehnenversorgung.de\n",
      "Option 0 successful with http://www.deutsches-museum.de\n",
      "Option 0 successful with http://www.bmuv.de\n",
      "Option 2 successful with http://www.auswaertiges-amt.de\n",
      "Option 0 successful with http://www.bmwk.de\n",
      "Option 0 successful with http://www.ghwk.de\n",
      "Option 0 successful with http://www.tropos.de\n",
      "Option 1 successful with http://www.museumsstiftung.de\n",
      "Option 0 successful with http://www.ioer.de\n",
      "Option 1 successful with http://www.iuf-duesseldorf.de\n",
      "Option 1 successful with http://www.ifz-muenchen.de\n",
      "Option 0 successful with http://www.zalf.de\n",
      "Option 0 successful with http://www.bsu-bund.de\n",
      "Option 0 successful with http://www.kulturrat.de\n",
      "Option 0 successful with http://www.unibw.de\n",
      "Option 2 successful with http://www.sanitaetsdienst-bundeswehr.de\n",
      "Option 0 successful with http://www.catalysis.de\n",
      "Option 0 successful with http://www.zoll.de\n",
      "Option 0 successful with http://www.mfo.de\n",
      "Option 0 successful with http://www.gsi.de\n",
      "Option 0 successful with http://www.dsj.de\n",
      "Option 0 successful with http://www.conact-org.de\n",
      "Option 0 successful with http://www.fueakbw.de\n",
      "Option 1 successful with http://www.lin-magdeburg.de\n",
      "Option 3 successful with http://www.deutschlandtourismus.de\n",
      "Option 0 successful with http://www.lifbi.de\n",
      "Option 0 successful with http://www.iwh-halle.de\n",
      "Option 0 successful with http://www.pei.de\n",
      "Option 0 successful with http://www.bfu-web.de\n",
      "Option 0 successful with http://www.stiftung-heuss-haus.de\n",
      "Option 1 successful with http://www.senckenberg.de\n",
      "Option 0 successful with http://www.fraunhofer.de\n",
      "Option 0 successful with http://www.musikrat.de\n",
      "Option 1 successful with http://www.instpraevmedbw.de\n",
      "Option 1 successful with http://www.patientenbeauftragter.de\n",
      "Option 0 successful with http://www.ieg-mainz.de\n",
      "Option 1 successful with http://www.bundesdrogenbeauftragter.de\n",
      "Option 0 successful with http://www.caritas.de\n",
      "Option 0 successful with http://www.dbfz.de\n",
      "Option 1 successful with http://www.porta-polonica.de\n",
      "Option 1 successful with http://www.iwm-tuebingen.de\n",
      "Option 1 successful with http://www.bundeskunsthalle.de\n",
      "Option 0 successful with http://www.contergan-infoportal.de\n",
      "Option 1 successful with http://www.bundessortenamt.de\n",
      "Option 1 successful with http://www.bvpraevention.de\n",
      "Option 1 successful with http://www.landschaftspflegeverband.de\n",
      "Option 0 successful with http://www.dhm.de\n",
      "Option 1 successful with http://www.dla-marbach.de\n",
      "Option 0 successful with http://www.dkfz.de\n",
      "Option 0 successful with http://www.igb-berlin.de\n",
      "Option 1 successful with http://www.fiz-karlsruhe.de\n",
      "Option 0 successful with http://www.lba.de\n",
      "Option 1 successful with http://www.deutsche-finanzagentur.de\n",
      "Option 0 successful with http://www.bgn.de\n",
      "Option 0 successful with http://www.hzdr.de\n",
      "Option 1 successful with http://www.landkreistag.de\n",
      "Option 0 successful with http://www.baw.de\n",
      "Option 1 successful with http://www.vorsorgeregister.de\n",
      "Option 1 successful with http://www.havariekommando.de\n",
      "Option 0 successful with http://www.willy-brandt.de\n",
      "Option 1 successful with http://www.idos-research.de\n",
      "Option 1 successful with http://www.arbeitsagentur.de\n",
      "Option 0 successful with http://www.deutsche-weine.de\n",
      "Option 0 successful with http://www.gtai.de\n",
      "Option 0 successful with http://www.bagejsa.de\n",
      "Option 0 successful with http://www.hss.de\n",
      "Option 1 successful with http://www.buchenwald.de\n",
      "Option 0 successful with http://www.bmas.de\n",
      "Option 0 successful with http://www.eisenbahn-unfalluntersuchung.de\n",
      "Option 0 successful with http://www.bgetem.de\n",
      "Option 1 successful with http://www.verfassungsschutz.de\n",
      "Option 0 successful with http://www.luftwaffe.de\n",
      "Option 0 successful with http://www.die-bonn.de\n",
      "Option 0 successful with http://www.bfarm.de\n",
      "Option 0 successful with http://www.fv-berlin.de\n",
      "Option 1 successful with http://www.ebert-gedenkstaette.de\n",
      "Option 1 successful with http://www.leibniz-gemeinschaft.de\n",
      "Option 1 successful with http://www.adenauerhaus.de\n",
      "Option 0 successful with http://www.sdw.de\n",
      "Option 0 successful with http://www.fnr.de\n",
      "Option 0 successful with http://www.dnb.de\n",
      "Option 0 successful with http://www.ifa.de\n",
      "Option 0 successful with http://www.juris.de\n",
      "Option 0 successful with http://www.dbjr.de\n",
      "Option 0 successful with http://www.ifw-kiel.de\n",
      "Option 0 successful with http://www.bmfsfj.de\n",
      "Option 0 successful with http://www.leibniz-lsb.de\n",
      "Option 0 successful with http://www.gfw-ev.de\n",
      "Option 0 successful with http://www.ijab.de\n",
      "Option 0 successful with http://www.kas.de\n",
      "Option 0 successful with http://www.mpie.de\n",
      "Option 1 successful with http://www.bundesregierung.de\n",
      "Option 0 successful with http://www.bkge.de\n",
      "Option 0 successful with http://www.nada.de\n",
      "Option 1 successful with http://www.edb-banken.de\n",
      "Option 0 successful with http://www.uv-bund-bahn.de\n",
      "Option 0 successful with http://www.cimonline.de\n",
      "Option 0 successful with http://www.kgst.de\n",
      "Option 1 successful with http://www.monopolkommission.de\n",
      "Option 2 successful with http://www.internationaler-bund.de\n",
      "Option 1 successful with http://www.bwconsulting.de\n",
      "Option 0 successful with http://www.dagstuhl.de\n",
      "Option 0 successful with http://www.ikgn.de\n",
      "Option 0 successful with http://www.rki.de\n",
      "Option 0 successful with http://www.hsbund-fb-bwv.de\n",
      "Option 1 successful with http://www.stiftung-bayerische-gedenkstaetten.de\n",
      "Option 0 successful with http://www.stiftung-geld-und-waehrung.de\n",
      "Option 0 successful with http://www.stiftung-bg.de\n",
      "Option 0 successful with http://www.kba.de\n",
      "Option 1 successful with http://www.bundesausgleichsamt.de\n",
      "Option 0 successful with http://www.kbv.de\n",
      "Option 0 successful with http://www.ikz-berlin.de\n",
      "Option 0 successful with http://www.bismarck-stiftung.de\n",
      "Option 1 successful with http://www.herder-institut.de\n",
      "Option 1 successful with http://www.bundeslotsenkammer.de\n",
      "Option 0 successful with http://www.irz.de\n",
      "Option 0 successful with http://www.alliierten-museum.de\n",
      "Option 0 successful with http://www.dekabank.de\n",
      "Option 0 successful with http://www.bamf.de\n",
      "Option 0 successful with http://www.ktbl.de\n",
      "Option 0 successful with http://www.cesifo-group.de\n",
      "Option 0 successful with http://www.marine.de\n",
      "Option 1 successful with http://www.ifw-dresden.de\n",
      "Option 0 successful with http://www.dnk.de\n",
      "Option 0 successful with http://www.deginvest.de\n",
      "Option 1 successful with http://www.bundesnetzagentur.de\n",
      "Option 0 successful with http://www.izw-berlin.de\n",
      "Option 2 successful with http://www.bundesstiftung-aufarbeitung.de\n",
      "Option 0 successful with http://www.boell.de\n",
      "Option 2 successful with http://www.pommersches-landesmuseum.de\n",
      "Option 1 successful with http://www.foev-speyer.de\n",
      "Option 0 successful with http://www.zbmed.de\n",
      "Option 2 successful with http://www.pensionskasse-eisenbahnen.de\n",
      "Option 0 successful with http://www.goethe.de\n",
      "Option 0 successful with http://www.vzbv.de\n",
      "Option 1 successful with http://www.stifterverein.de\n",
      "Option 0 successful with http://www.ikgs.de\n",
      "Option 0 successful with http://www.vebeg.de\n",
      "Option 0 successful with http://www.mh-stiftung.de\n",
      "Error: Timeout for www.vhs-hd.de\n",
      "Option 0 successful with http://www.arl-net.de\n",
      "Option 5 successful with http://www.sachverstaendigenrat-wirtschaft.de\n",
      "Option 5 successful with http://www.bundesstiftung-friedensforschung.de\n",
      "Option 0 successful with http://www.difu.de\n",
      "Option 1 successful with http://www.instmikrobiobw.de\n",
      "Option 0 successful with http://www.iamo.de\n",
      "Option 0 successful with http://www.bundes-kanzler.de\n",
      "Option 0 successful with http://www.museum-karlshorst.de\n",
      "Option 0 successful with http://www.drk.de\n",
      "Option 0 successful with http://www.aok.de\n",
      "Option 0 successful with http://www.dakks.de\n",
      "Option 0 successful with http://www.zmsbw.de\n",
      "Option 0 successful with http://www.aif.de\n",
      "Option 0 successful with http://www.ifado.de\n",
      "Option 0 successful with http://www.bpb.de\n",
      "Option 0 successful with http://www.wbgu.de\n",
      "Option 1 successful with http://www.bips-institut.de\n",
      "Option 2 successful with http://www.ostpreussisches-landesmuseum.de\n",
      "Option 1 successful with http://www.der-paritaetische.de\n",
      "Option 1 successful with http://www.antidiskriminierungsstelle.de\n",
      "Option 1 successful with http://www.bag-jugendschutz.de\n",
      "Option 0 successful with http://www.inm-gmbh.de\n",
      "Option 2 successful with http://www.continentale-bkk.de\n",
      "Option 0 successful with http://www.iap-kborn.de\n",
      "Option 0 successful with http://www.julius-kuehn.de\n",
      "Option 0 successful with http://www.bgbau.de\n",
      "Option 1 successful with http://www.liag-hannover.de\n",
      "Option 0 successful with http://www.unesco.de\n",
      "Option 0 successful with http://www.gei.de\n",
      "Option 0 successful with http://www.bsh.de\n",
      "Option 0 successful with http://www.bundes-bank.de\n",
      "Option 0 successful with http://www.gwk-bonn.de\n",
      "Option 0 successful with http://www.boeckler.de\n",
      "Option 0 successful with http://www.fbh-berlin.de\n",
      "Option 0 successful with http://www.dipf.de\n",
      "Option 0 successful with http://www.stiftung-genshagen.de\n"
     ]
    }
   ],
   "source": [
    "for _ in find_urls_bundeswehr():  # This takes a while to finish\n",
    "    urls.append(_)"
   ]
  },
  {
   "cell_type": "markdown",
   "metadata": {
    "collapsed": false
   },
   "source": [
    "Let's focus on the last pdf."
   ]
  },
  {
   "cell_type": "code",
   "execution_count": 71,
   "metadata": {
    "collapsed": false,
    "pycharm": {
     "name": "#%%\n"
    }
   },
   "outputs": [],
   "source": [
    "def format_wegweiser_senioren_url_mail():\n",
    "    \"\"\"\n",
    "    Formats the wegweiser_senioren copy txt file and prepares it for analysis.\n",
    "    \"\"\"\n",
    "    wegweiser_senioren_copy = [flyer for flyer in files_flyers_copy if 'wegweiser_senioren' in flyer][0]\n",
    "    text = \"\"\n",
    "    with open(wegweiser_senioren_copy, 'r') as wegweiser_senioren_file:\n",
    "        text += wegweiser_senioren_file.read()\n",
    "    text = text.replace('\\n', ' ')  # Get rid of newlines\n",
    "    text = text.lower()\n",
    "    text = re.sub(r'[^\\x00-\\x7F]+',' ', text)  # Get rid of thin spaces and other unicode characters\n",
    "    with open(wegweiser_senioren_copy, 'w') as wegweiser_senioren_file:\n",
    "        wegweiser_senioren_file.writelines(text)"
   ]
  },
  {
   "cell_type": "code",
   "execution_count": 72,
   "metadata": {
    "collapsed": false,
    "pycharm": {
     "name": "#%%\n"
    }
   },
   "outputs": [],
   "source": [
    "format_wegweiser_senioren_url_mail()"
   ]
  },
  {
   "cell_type": "code",
   "execution_count": 73,
   "metadata": {
    "collapsed": false,
    "pycharm": {
     "name": "#%%\n"
    }
   },
   "outputs": [],
   "source": [
    "def find_urls_wegweiser_senioren() -> list:\n",
    "    \"\"\"\n",
    "    Searches inside the wegweiser_senioren copy txt file for valid urls.\n",
    "    :return: List of urls found in txt file.\n",
    "    \"\"\"\n",
    "    potential_urls = []\n",
    "    final_urls = []\n",
    "    wegweiser_senioren_copy = [flyer for flyer in files_flyers_copy if 'wegweiser_senioren' in flyer][0]\n",
    "    text = \"\"\n",
    "    with open(wegweiser_senioren_copy, 'r') as wegweiser_senioren_file:\n",
    "        text += wegweiser_senioren_file.read()\n",
    "    text = text.split(' ')\n",
    "    for element in text:\n",
    "        if '.' in element:  # every website contains at least one dot\n",
    "            potential_urls.append(element)\n",
    "\n",
    "    # Source: https://stackoverflow.com/questions/7160737/how-to-validate-a-url-in-python-malformed-or-not (Answer by cetver)\n",
    "    is_url_regex = re.compile(\n",
    "        r'^www.' # starts with 'www.'\n",
    "        r'(?:(?:[A-Z0-9](?:[A-Z0-9-]{0,61}[A-Z0-9])?\\.)+(?:[A-Z]{2,6}\\.?|[A-Z0-9-]{2,}\\.?)|' #domain...\n",
    "        r'localhost|' #localhost...\n",
    "        r'\\d{1,3}\\.\\d{1,3}\\.\\d{1,3}\\.\\d{1,3})' # ...or ip\n",
    "        r'(?::\\d+)?' # optional port\n",
    "        r'(?:/?|[/?]\\S+)$', re.IGNORECASE)\n",
    "\n",
    "    for url_ in potential_urls:\n",
    "        match = re.match(r'([\\w.-]+\\.(de|com))\\w+', url_, flags=re.IGNORECASE)\n",
    "        if re.match(is_url_regex, url_) is not None:\n",
    "            if match:\n",
    "                url_ = match.groups(0)[0]\n",
    "            try:\n",
    "                print(\"Start validating:\", url_)\n",
    "                if requests.get('https://' + url_, timeout=5).ok or requests.get('http://' + url_, timeout=5).ok:\n",
    "                    final_urls.append(url_)\n",
    "            except requests.ConnectionError:\n",
    "                print(\"Error: Url\", url_, \"is not valid.\")\n",
    "            except requests.ReadTimeout:\n",
    "                print(\"Error: Timeout for\", url)\n",
    "\n",
    "    return list(set(final_urls))  # convert to set to remove duplicates"
   ]
  },
  {
   "cell_type": "code",
   "execution_count": 74,
   "metadata": {
    "collapsed": false,
    "pycharm": {
     "name": "#%%\n"
    }
   },
   "outputs": [
    {
     "name": "stdout",
     "output_type": "stream",
     "text": [
      "Start validating: www.heidelberg.de/senioren\n",
      "Start validating: www.seniorenzentren-hd.de\n",
      "Start validating: www.diakonie-heidelberg.de\n",
      "Start validating: www.diakonie-heidelberg.de\n",
      "Start validating: www.diakonie-heidelberg.de\n",
      "Start validating: www.awo-heidelberg.de/\n",
      "Start validating: www.akademie-fuer-aeltere.de\n",
      "Start validating: www.vrn.de\n",
      "Start validating: www.diakonie-heidelberg.de\n",
      "Start validating: www.selbsthilfe-heidelberg.de\n",
      "Start validating: www.freiwilligenagentur-heidelberg.de\n",
      "Start validating: www.tauschring-heidelberg.de\n",
      "Error: Url www.tauschring-heidelberg.de is not valid.\n",
      "Start validating: www.diakonie-heidelberg.de\n",
      "Start validating: www.diakonie-heidelberg.de\n",
      "Start validating: www.kath-dekanat-hw.de\n",
      "Start validating: www.kirche-heidelberg.de.\n",
      "Error: Url www.kirche-heidelberg.de. is not valid.\n",
      "Start validating: www.caritas-heidelberg.de\n",
      "Start validating: www.drk-heidelberg.de\n",
      "Start validating: www.heidelberg.de/senioren\n",
      "Start validating: www.caritas-heidelberg.de\n",
      "Start validating: www.diakonie-heidelberg.de\n",
      "Start validating: www.vdk.de\n",
      "Start validating: www.klinikum.uni-heidelberg.de/hno\n",
      "Start validating: www.klinikum.uni-heidelberg.de/psychosomatik\n",
      "Start validating: www.st.josefskrankenhaus.de\n",
      "Start validating: www.krankenhaus-salem.de\n",
      "Start validating: www.kliniken-schmieder.de\n",
      "Start validating: www.thoraxklinik-heidelberg.de\n",
      "Start validating: www.vicentius-hd.de\n",
      "Error: Url www.vicentius-hd.de is not valid.\n",
      "Start validating: www.heidelberg.de\n",
      "Start validating: www.skm-heidelberg.de\n",
      "Start validating: www.skf-heidelberg.de\n",
      "Start validating: www.polizei-beratung.de\n",
      "Start validating: www.k-einbruch.de\n",
      "Start validating: www.agheidelberg.de\n",
      "Error: Url www.agheidelberg.de is not valid.\n",
      "Start validating: www.caritas-heidelberg.de\n",
      "Start validating: www.heidelberg.de\n",
      "Start validating: www.heidelberg.de\n",
      "Start validating: www.klientenfuersprecher-hd.rndi.de\n",
      "Error: Url www.klientenfuersprecher-hd.rndi.de is not valid.\n",
      "Start validating: www.pflegedienst-kurpfalz.de\n",
      "Start validating: www.diakonie-heidelberg.de\n",
      "Start validating: www.vbi-heidelberg.de\n",
      "Start validating: www.ipba-service.de\n",
      "Error: Url www.ipba-service.de is not valid.\n",
      "Start validating: www.betreuungsservice-cms.de\n",
      "Error: Url www.betreuungsservice-cms.de is not valid.\n",
      "Start validating: www.malteser.de\n",
      "Start validating: www.ehrenfried.de\n",
      "Start validating: www.landhaus-kueche.de\n",
      "Start validating: www.activvita.de\n",
      "Start validating: www.advivo-pflegedienst.de\n",
      "Start validating: www.pflegedienst-heidelberg.de\n",
      "Start validating: www.nachtpflege.de\n",
      "Start validating: www.pflege-daheim.net\n",
      "Start validating: www.pflege-heidelberg.de\n",
      "Error: Url www.pflege-heidelberg.de is not valid.\n",
      "Start validating: www.vbi-heidelberg.de\n",
      "Start validating: www.hkp-hd.de\n",
      "Error: Url www.hkp-hd.de is not valid.\n",
      "Start validating: www.heidelberger-hauspflege.de\n",
      "Start validating: www.individualhilfe.de\n",
      "Error: Timeout for www.vhs-hd.de\n",
      "Start validating: www.sozialstation-hds.de\n",
      "Error: Url www.sozialstation-hds.de is not valid.\n",
      "Start validating: www.das-pflegeteam24.de\n",
      "Start validating: www.sozialstation-st-vitus.de\n",
      "Start validating: www.srh-pflege.de\n",
      "Start validating: www.aki-heidelberg.de\n",
      "Start validating: www.diakonie-heidelberg.de\n",
      "Start validating: www.pflegeheimat.de\n",
      "Error: Url www.pflegeheimat.de is not valid.\n",
      "Start validating: www.malteser.de\n",
      "Start validating: www.johanniter-baden.de\n",
      "Error: Url www.johanniter-baden.de is not valid.\n",
      "Start validating: www.bethanien-heidelberg.de\n",
      "Start validating: www.diakonie-heidelberg.de\n",
      "Start validating: www.facebook.de/krebsinformationsdienst\n",
      "Error: Url www.facebook.de/krebsinformationsdienst is not valid.\n",
      "Start validating: www.diakonie-heidelberg.de\n",
      "Start validating: www.pflegeheimat.de\n",
      "Error: Url www.pflegeheimat.de is not valid.\n",
      "Start validating: www.sozialstation-st-vitus.de\n",
      "Start validating: www.sozialstation-hds.de\n",
      "Error: Url www.sozialstation-hds.de is not valid.\n",
      "Start validating: www.heidelberg.de\n",
      "Start validating: www.stadtmission-hd.de\n",
      "Start validating: www.stadtmission-hd.de\n",
      "Start validating: www.stadtmission-hd.de\n",
      "Start validating: www.bethanien-lindenhof.de\n",
      "Start validating: www.graimberg-haus.de\n",
      "Start validating: www.stadtmission-hd.de\n",
      "Start validating: www.awo-im-kranichgarten.de\n",
      "Start validating: www.awo-seniorenzentrum-louise-ebert-haus.de\n",
      "Start validating: www.pflegeheimat.de\n",
      "Error: Url www.pflegeheimat.de is not valid.\n",
      "Start validating: www.mathilde-vogt-haus.de\n",
      "Error: Url www.mathilde-vogt-haus.de is not valid.\n",
      "Start validating: www.st-michaelhd.de\n",
      "Error: Url www.st-michaelhd.de is not valid.\n",
      "Start validating: www.stadtresidenz-heidelberg.de\n",
      "Error: Url www.stadtresidenz-heidelberg.de is not valid.\n",
      "Start validating: www.hospiz-louise.de\n",
      "Start validating: www.heidelberg.de/friedhof\n",
      "Start validating: www.pflegen-und-leben.de\n",
      "Start validating: www.agentur-communicate.de\n"
     ]
    }
   ],
   "source": [
    "for _ in find_urls_wegweiser_senioren():\n",
    "    urls.append(_)"
   ]
  },
  {
   "cell_type": "markdown",
   "metadata": {
    "collapsed": false
   },
   "source": [
    "Now let's write all the urls into a dedicated file.\n",
    "First, normalize the urls."
   ]
  },
  {
   "cell_type": "code",
   "execution_count": 75,
   "metadata": {
    "collapsed": false,
    "pycharm": {
     "name": "#%%\n"
    }
   },
   "outputs": [],
   "source": [
    "urls_normalized = []\n",
    "\n",
    "for _ in list(set(urls)):\n",
    "    if 'www' == _[:3]:\n",
    "        urls_normalized.append('https://' + _)\n",
    "    else:\n",
    "        urls_normalized.append(_)"
   ]
  },
  {
   "cell_type": "code",
   "execution_count": 77,
   "metadata": {
    "collapsed": false,
    "pycharm": {
     "name": "#%%\n"
    }
   },
   "outputs": [],
   "source": [
    "with open(os.path.dirname(files_flyers[0]) + '/urls.txt', 'w') as writefile:\n",
    "    for normalized_url in urls_normalized:\n",
    "        writefile.write(normalized_url)\n",
    "        writefile.write('\\n')"
   ]
  },
  {
   "cell_type": "markdown",
   "metadata": {
    "collapsed": false
   },
   "source": [
    "Woohoo. Now let's focus on finding some mail addresses."
   ]
  },
  {
   "cell_type": "code",
   "execution_count": 85,
   "metadata": {
    "collapsed": false,
    "pycharm": {
     "name": "#%%\n"
    }
   },
   "outputs": [],
   "source": [
    "def find_mails_bahnstadt() -> list:\n",
    "    \"\"\"\n",
    "    Searches inside the bahnstadt copy txt file for valid mails.\n",
    "    :return: List of mails found in txt file.\n",
    "    \"\"\"\n",
    "    potential_mails = []\n",
    "    final_mails = []\n",
    "    bahnstadt_copy = [flyer for flyer in files_flyers_copy if 'bahnstadt' in flyer][0]\n",
    "    text = \"\"\n",
    "    with open(bahnstadt_copy, 'r') as bahnstadt_file:\n",
    "        text += bahnstadt_file.read()\n",
    "    text = text.split(' ')\n",
    "    for element in text:\n",
    "        if '@' in element:  # every mail contains an '@'\n",
    "            potential_mails.append(element)\n",
    "\n",
    "    potential_mails = list(set(potential_mails))\n",
    "\n",
    "    for mail in potential_mails:\n",
    "        regexp = re.compile(r'(.*\\.(de|com|org))\\w*')\n",
    "        match = re.match(regexp, mail)\n",
    "        if match:\n",
    "            mail = match.groups(0)[0]\n",
    "        if validators.email(mail):\n",
    "            final_mails.append(mail)\n",
    "\n",
    "    return list(set(final_mails))  # convert to set to remove duplicates"
   ]
  },
  {
   "cell_type": "code",
   "execution_count": 87,
   "metadata": {
    "collapsed": false,
    "pycharm": {
     "name": "#%%\n"
    }
   },
   "outputs": [],
   "source": [
    "for mail in find_mails_bahnstadt():\n",
    "    mail_addresses.append(mail)"
   ]
  },
  {
   "cell_type": "markdown",
   "metadata": {
    "collapsed": false
   },
   "source": [
    "Off to the next file."
   ]
  },
  {
   "cell_type": "code",
   "execution_count": 100,
   "metadata": {
    "collapsed": false,
    "pycharm": {
     "name": "#%%\n"
    }
   },
   "outputs": [],
   "source": [
    "def find_mails_bundeswehr() -> list:\n",
    "    \"\"\"\n",
    "    Searches inside the bundeswehr copy txt file for valid mails.\n",
    "    :return: List of mails found in txt file.\n",
    "    \"\"\"\n",
    "    potential_mails = []\n",
    "    final_mails = []\n",
    "    bundeswehr_copy = [flyer for flyer in files_flyers_copy if 'bundeswehr' in flyer][0]\n",
    "    text = \"\"\n",
    "    with open(bundeswehr_copy, 'r') as bundeswehr_file:\n",
    "        text += bundeswehr_file.read()\n",
    "\n",
    "    for match in re.findall(r'[a-z]+\\d{5}((\\w|-|\\.)+@(\\w|-|\\.)+)(http|\\+)', text):  # All mails are preceded by an address (city ([a-z], plz (\\d{5})) and tailed by the website (http...) or a phone/fax number\n",
    "        potential_mails.append(match[0])\n",
    "\n",
    "    potential_mails = list(set(potential_mails))\n",
    "\n",
    "    # This part is tricky, because again we face the issue of lots of '-' separating some mail addresses, and we don't know whether they belong to the mail address or stem from the formatting of the pdf.\n",
    "    # So again, we would need to test all options.\n",
    "    # The additional problem is that to properly verify a mail address you have to check SMTP servers and so on.\n",
    "    # However, these services (e.g. Mailboxlayer, isiteralemail, etc.) are paid, so we will just include every possible mail, so we know for sure, that we will reach everyone.\n",
    "\n",
    "    for potential_mail in potential_mails:\n",
    "        # Source: https://stackoverflow.com/questions/14841652/string-replacement-combinations\n",
    "        options = [(c,) if c != '-' else ('-', '') for c in potential_mail]\n",
    "        for index, _ in enumerate(list((''.join(o) for o in product(*options)))):\n",
    "            if validators.email(_):\n",
    "                final_mails.append(_)\n",
    "\n",
    "    return list(set(final_mails))  # convert to set to remove duplicates"
   ]
  },
  {
   "cell_type": "code",
   "execution_count": 102,
   "metadata": {
    "collapsed": false,
    "pycharm": {
     "name": "#%%\n"
    }
   },
   "outputs": [],
   "source": [
    "for mail in find_mails_bundeswehr():\n",
    "    mail_addresses.append(mail)"
   ]
  },
  {
   "cell_type": "code",
   "execution_count": 103,
   "metadata": {
    "collapsed": false,
    "pycharm": {
     "name": "#%%\n"
    }
   },
   "outputs": [],
   "source": [
    "def find_mails_wegweiser_senioren() -> list:\n",
    "    \"\"\"\n",
    "    Searches inside the wegweiser_senioren copy txt file for valid mails.\n",
    "    :return: List of mails found in txt file.\n",
    "    \"\"\"\n",
    "    potential_mails = []\n",
    "    final_mails = []\n",
    "    wegweiser_senioren_copy = [flyer for flyer in files_flyers_copy if 'wegweiser_senioren' in flyer][0]\n",
    "    text = \"\"\n",
    "    with open(wegweiser_senioren_copy, 'r') as wegweiser_senioren_file:\n",
    "        text += wegweiser_senioren_file.read()\n",
    "    text = text.split(' ')\n",
    "    for element in text:\n",
    "        if '@' in element:  # every website contains at least one dot\n",
    "            potential_mails.append(element)\n",
    "\n",
    "    potential_mails = list(set(potential_mails))\n",
    "\n",
    "    for _ in potential_mails:\n",
    "        regexp = re.compile(r'(.*\\.(de|com|org))\\w*')\n",
    "        match = re.match(regexp, _)\n",
    "        if match:\n",
    "            _ = match.groups(0)[0]\n",
    "        if validators.email(_):\n",
    "            final_mails.append(_)\n",
    "\n",
    "    return list(set(final_mails))  # convert to set to remove duplicates"
   ]
  },
  {
   "cell_type": "code",
   "execution_count": 105,
   "metadata": {
    "collapsed": false,
    "pycharm": {
     "name": "#%%\n"
    }
   },
   "outputs": [],
   "source": [
    "for mail in find_mails_wegweiser_senioren():\n",
    "    mail_addresses.append(mail)"
   ]
  },
  {
   "cell_type": "markdown",
   "metadata": {
    "collapsed": false
   },
   "source": [
    "Let's put 'em in a file."
   ]
  },
  {
   "cell_type": "code",
   "execution_count": 106,
   "metadata": {
    "collapsed": false,
    "pycharm": {
     "name": "#%%\n"
    }
   },
   "outputs": [],
   "source": [
    "with open(os.path.dirname(files_flyers[0]) + '/mails.txt', 'w') as writefile:\n",
    "    for mail in mail_addresses:\n",
    "        writefile.write(mail)\n",
    "        writefile.write('\\n')"
   ]
  },
  {
   "cell_type": "markdown",
   "metadata": {
    "collapsed": false
   },
   "source": [
    "After a never ending part ii:\n",
    "## part iii: Find IBANs in iban.pdf file"
   ]
  },
  {
   "cell_type": "code",
   "execution_count": 133,
   "metadata": {
    "collapsed": false,
    "pycharm": {
     "name": "#%%\n"
    }
   },
   "outputs": [],
   "source": [
    "ibans = []"
   ]
  },
  {
   "cell_type": "code",
   "execution_count": 131,
   "metadata": {
    "collapsed": false,
    "pycharm": {
     "name": "#%%\n"
    }
   },
   "outputs": [],
   "source": [
    "def find_ibans_in_iban():\n",
    "    potential_ibans = []\n",
    "    final_ibans = []\n",
    "    with open(files_iban[0], 'r') as iban_read:\n",
    "        for line in iban_read.readlines():\n",
    "            potential_ibans.append(line[:-2])\n",
    "\n",
    "    for iban in potential_ibans:\n",
    "        match = re.findall(r'([A-Z]{2}[0-9]{2}(?:[ ][A-Z0-9]{4})+)[ ]', iban)\n",
    "        if match:\n",
    "            final_ibans.append(match[0])\n",
    "\n",
    "    return final_ibans"
   ]
  },
  {
   "cell_type": "code",
   "execution_count": 134,
   "metadata": {
    "collapsed": false,
    "pycharm": {
     "name": "#%%\n"
    }
   },
   "outputs": [],
   "source": [
    "for iban in find_ibans_in_iban():\n",
    "    ibans.append(iban)"
   ]
  },
  {
   "cell_type": "code",
   "execution_count": 135,
   "metadata": {
    "collapsed": false,
    "pycharm": {
     "name": "#%%\n"
    }
   },
   "outputs": [],
   "source": [
    "with open(os.path.dirname(files_iban[0]) + '/ibans.txt', 'w') as writefile:\n",
    "    for iban in ibans:\n",
    "        writefile.write(iban)\n",
    "        writefile.write('\\n')"
   ]
  },
  {
   "cell_type": "markdown",
   "metadata": {
    "collapsed": false
   },
   "source": [
    "# Are we.. are we.. done?? o.O"
   ]
  },
  {
   "cell_type": "code",
   "execution_count": null,
   "metadata": {
    "collapsed": false,
    "pycharm": {
     "name": "#%%\n"
    }
   },
   "outputs": [],
   "source": []
  }
 ],
 "metadata": {
  "kernelspec": {
   "display_name": "Python 3.7.0 32-bit",
   "language": "python",
   "name": "python3"
  },
  "language_info": {
   "codemirror_mode": {
    "name": "ipython",
    "version": 3
   },
   "file_extension": ".py",
   "mimetype": "text/x-python",
   "name": "python",
   "nbconvert_exporter": "python",
   "pygments_lexer": "ipython3",
   "version": "3.7.0"
  },
  "vscode": {
   "interpreter": {
    "hash": "1321d772e313b0dfa934d90c583e6cd94a961d67e1aff261b0543ac9a0979729"
   }
  }
 },
 "nbformat": 4,
 "nbformat_minor": 0
}
