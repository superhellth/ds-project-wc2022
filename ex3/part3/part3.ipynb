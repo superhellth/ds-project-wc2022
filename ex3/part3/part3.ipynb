{
 "cells": [
  {
   "cell_type": "markdown",
   "source": [
    "# Assignment 1, ex3, part3\n",
    "by Raphael Ebner, Nicolas Hellthaler, Bastian Müller"
   ],
   "metadata": {
    "collapsed": false
   }
  },
  {
   "cell_type": "code",
   "execution_count": 35,
   "outputs": [],
   "source": [
    "# Imports\n",
    "# File utils\n",
    "import os\n",
    "import shutil\n",
    "\n",
    "# Analyzing tools\n",
    "import re\n",
    "import validators\n",
    "import requests"
   ],
   "metadata": {
    "collapsed": false,
    "pycharm": {
     "name": "#%%\n"
    }
   }
  },
  {
   "cell_type": "markdown",
   "source": [
    "Get arrays with paths to all .txt files generated using 'pypdf2'."
   ],
   "metadata": {
    "collapsed": false
   }
  },
  {
   "cell_type": "code",
   "execution_count": 2,
   "metadata": {
    "collapsed": true
   },
   "outputs": [],
   "source": [
    "folders = ['flyers', 'iban', 'scans']\n",
    "files = []\n",
    "\n",
    "for folder in folders:\n",
    "    for file in os.listdir(os.path.join(os.path.dirname(os.path.dirname(os.getcwd())), 'files', folder)):\n",
    "        name, ext = os.path.splitext(file)\n",
    "        if ext == '.pdf':\n",
    "            path = os.path.join(os.path.dirname(os.path.dirname(os.getcwd())), 'files', folder, file)\n",
    "            files.append(os.path.join(os.path.dirname(path), os.path.splitext(file)[0] + \"_\" + \"pypdf2\" + \".txt\"))\n",
    "\n",
    "files_flyers = [file for file in files if \"flyers\" in file]\n",
    "files_flyers_copy = []\n",
    "files_iban = [file for file in files if \"iban\" in file]\n",
    "files_iban_copy = []\n",
    "files_scans = [file for file in files if \"scans\" in file]\n",
    "files_scans_copy = []"
   ]
  },
  {
   "cell_type": "markdown",
   "source": [
    "## (i) Extract phone numbers from PDF files in /flyers\n",
    "We start by identifying what format the phone numbers are in by looking at our PDF files."
   ],
   "metadata": {
    "collapsed": false
   }
  },
  {
   "cell_type": "markdown",
   "source": [
    "Takeaways bahnstadt.pdf\n",
    "- Most start with 0\n",
    "- Have to exclude fax numbers, often prefixed by 'Fax' or 'Telefax'\n",
    "- Different formats like '0621 / 89..' or '0621 - 89 ..'\n",
    "- Different length\n",
    "- Some phone numbers don't have a prefix because the prefix is mentioned in the row above (no solution found)\n",
    "\n",
    "Takeaways bundeswehr.pdf\n",
    "- Only use first number, second (if exists) is fax number\n",
    "- 'Telephone IVB' in third column?\n",
    "\n",
    "Takeaways wegweiser_senioren.pdf\n",
    "- Different formats '(0621) 89 ..'\n",
    "- Again sometimes no prefix, e.g. '(0 62 21) 58-38340, 58-38330'\n",
    "- Replace thin spaces in txt file"
   ],
   "metadata": {
    "collapsed": false
   }
  },
  {
   "cell_type": "markdown",
   "source": [
    "First we copy each txt file to format it later."
   ],
   "metadata": {
    "collapsed": false
   }
  },
  {
   "cell_type": "code",
   "execution_count": 3,
   "outputs": [],
   "source": [
    "def copy_subpart1_files():\n",
    "    \"\"\"\n",
    "    Copies the txt files used for the analysis. Keeps the file name, adds '_subpartX'.\n",
    "    \"\"\"\n",
    "    for flyer in files_flyers:\n",
    "        shutil.copy(flyer, flyer.replace('.txt','_subpart1.txt'))\n",
    "        files_flyers_copy.append(flyer.replace('.txt', '_subpart1.txt'))"
   ],
   "metadata": {
    "collapsed": false,
    "pycharm": {
     "name": "#%%\n"
    }
   }
  },
  {
   "cell_type": "code",
   "execution_count": 4,
   "outputs": [],
   "source": [
    "copy_subpart1_files()"
   ],
   "metadata": {
    "collapsed": false,
    "pycharm": {
     "name": "#%%\n"
    }
   }
  },
  {
   "cell_type": "markdown",
   "source": [
    "Based on the findings above we write three different algorithms to takle each .pdf file individually.\n",
    "We start by formatting the txt files and then make use of regex extensively."
   ],
   "metadata": {
    "collapsed": false
   }
  },
  {
   "cell_type": "code",
   "execution_count": 5,
   "outputs": [],
   "source": [
    "numbers = []"
   ],
   "metadata": {
    "collapsed": false,
    "pycharm": {
     "name": "#%%\n"
    }
   }
  },
  {
   "cell_type": "code",
   "execution_count": 6,
   "outputs": [],
   "source": [
    "def format_bahnstadt():\n",
    "    \"\"\"\n",
    "    Formats the bahnstadt copy txt file and prepares it for analysis.\n",
    "    \"\"\"\n",
    "    bahnstadt_copy = [flyer for flyer in files_flyers_copy if 'bahnstadt' in flyer][0]\n",
    "    text = \"\"\n",
    "    with open(bahnstadt_copy, 'r') as bahnstadt_file:\n",
    "        text += bahnstadt_file.read()\n",
    "    text = text.replace('\\n', ' ')  # Get rid of newlines\n",
    "    text = text.replace('-', ' ')  # Get rid of dashes\n",
    "    text = text.replace('/', ' ')  # Get rid of slashes\n",
    "    text = text.replace(' ', '')  # Get rid of spaces\n",
    "    with open(bahnstadt_copy, 'w') as bahnstadt_file:\n",
    "        bahnstadt_file.writelines(text)"
   ],
   "metadata": {
    "collapsed": false,
    "pycharm": {
     "name": "#%%\n"
    }
   }
  },
  {
   "cell_type": "code",
   "execution_count": 7,
   "outputs": [],
   "source": [
    "format_bahnstadt()"
   ],
   "metadata": {
    "collapsed": false,
    "pycharm": {
     "name": "#%%\n"
    }
   }
  },
  {
   "cell_type": "markdown",
   "source": [
    "Now, we get all numbers that:\n",
    "- are so called 'Notrufnummern' (3 to 6 digits)\n",
    "- start with '0' and are longer than 5 (normal numbers without prefix or with prefix, use prefix from number before)\n",
    "- are not prefixed by a string containing 'fax'"
   ],
   "metadata": {
    "collapsed": false
   }
  },
  {
   "cell_type": "code",
   "execution_count": 8,
   "outputs": [],
   "source": [
    "def find_numbers_bahnstadt() -> list:\n",
    "    \"\"\"\n",
    "    Searches inside the bahnstadt copy txt file for valid phone numbers.\n",
    "    :return: List of numbers found in txt file.\n",
    "    \"\"\"\n",
    "    matches = []\n",
    "    fax_numbers = []\n",
    "    bahnstadt_copy = [flyer for flyer in files_flyers_copy if 'bahnstadt' in flyer][0]\n",
    "    text = \"\"\n",
    "    with open(bahnstadt_copy, 'r') as bahnstadt_file:\n",
    "        text += bahnstadt_file.read()\n",
    "    for match in re.findall(r'(110|112|115|116117|19222|116006)', text):\n",
    "        matches.append(match)\n",
    "    for match in re.findall(r'0[1-9][0-9]{6,12}', text):\n",
    "        matches.append(match)\n",
    "    for match in re.findall(r'[a-zA-Z]*fax[a-zA-Z]*(\\d+)', text, flags=re.I):  # find all fax numbers\n",
    "        fax_numbers.append(match)\n",
    "    matches = [match for match in matches if match not in fax_numbers]  # remove fax numbers from solution\n",
    "    return list(set(matches))  # convert to set to remove duplicates"
   ],
   "metadata": {
    "collapsed": false,
    "pycharm": {
     "name": "#%%\n"
    }
   }
  },
  {
   "cell_type": "markdown",
   "source": [
    "Add numbers from bahnstadt to numbers array"
   ],
   "metadata": {
    "collapsed": false
   }
  },
  {
   "cell_type": "code",
   "execution_count": 9,
   "outputs": [],
   "source": [
    "for number in find_numbers_bahnstadt():\n",
    "    numbers.append(number)"
   ],
   "metadata": {
    "collapsed": false,
    "pycharm": {
     "name": "#%%\n"
    }
   }
  },
  {
   "cell_type": "markdown",
   "source": [
    "Prepare bundeswehr file"
   ],
   "metadata": {
    "collapsed": false
   }
  },
  {
   "cell_type": "code",
   "execution_count": 10,
   "outputs": [],
   "source": [
    "def format_bundeswehr():\n",
    "    \"\"\"\n",
    "    Formats the bahnstadt copy txt file and prepares it for analysis.\n",
    "    \"\"\"\n",
    "    bundeswehr_copy = [flyer for flyer in files_flyers_copy if 'bundeswehr' in flyer][0]\n",
    "    text = \"\"\n",
    "    with open(bundeswehr_copy, 'r') as bundeswehr_file:\n",
    "        text += bundeswehr_file.read()\n",
    "    text = text.replace('\\n', ' ')  # Get rid of newlines\n",
    "    text = text.replace('-', ' ')  # Get rid of dashes\n",
    "    text = text.replace('/', ' ')  # Get rid of slashes\n",
    "    text = text.replace(' ', '')  # Get rid of spaces\n",
    "    with open(bundeswehr_copy, 'w') as bundeswehr_file:\n",
    "        bundeswehr_file.writelines(text)"
   ],
   "metadata": {
    "collapsed": false,
    "pycharm": {
     "name": "#%%\n"
    }
   }
  },
  {
   "cell_type": "code",
   "execution_count": 11,
   "outputs": [],
   "source": [
    "format_bundeswehr()"
   ],
   "metadata": {
    "collapsed": false,
    "pycharm": {
     "name": "#%%\n"
    }
   }
  },
  {
   "cell_type": "markdown",
   "source": [
    "It is (at least for us) impossible to tell when looking at the txt file that was generated what a telephone and what a fax number is.\n",
    "So for this part, we will ignore all numbers but the first one for each entry. This is fine for the majority of cases.\n",
    "The only exception is, when we find four numbers, then we add the first and second to last ones to our solution."
   ],
   "metadata": {
    "collapsed": false
   }
  },
  {
   "cell_type": "code",
   "execution_count": 12,
   "outputs": [],
   "source": [
    "def find_numbers_bundeswehr() -> list:\n",
    "    \"\"\"\n",
    "    Searches inside the bundeswehr copy txt file for valid phone numbers.\n",
    "    :return: List of numbers found in txt file.\n",
    "    \"\"\"\n",
    "    matches = []\n",
    "    bundeswehr_copy = [flyer for flyer in files_flyers_copy if 'bundeswehr' in flyer][0]\n",
    "    text = \"\"\n",
    "    with open(bundeswehr_copy, 'r') as bundeswehr_file:\n",
    "        text += bundeswehr_file.read()\n",
    "    for match in re.findall(r'(\\+\\d+)\\+\\d+(\\+\\d+)\\+\\d+', text):  # extract two phone numbers in case four numbers were found\n",
    "        matches.append(match[0])\n",
    "        matches.append(match[1])\n",
    "    for match in re.findall(r'(\\+\\d+)\\+\\d+(\\+\\d+)[^+]', text):  # extract two phone numbers in case three numbers where found. In almost all cases, when three numbers were provided they are in the order phone, fax, phone\n",
    "        matches.append(match[0])\n",
    "        matches.append(match[1])\n",
    "    for match in re.findall(r'(\\+\\d+)\\+\\d+[^+]', text):  # extract phone number in case only one number is found\n",
    "        matches.append(match)\n",
    "    return list(set(matches))  # convert to set to remove duplicates"
   ],
   "metadata": {
    "collapsed": false,
    "pycharm": {
     "name": "#%%\n"
    }
   }
  },
  {
   "cell_type": "code",
   "execution_count": 13,
   "outputs": [],
   "source": [
    "for number in find_numbers_bundeswehr():\n",
    "    numbers.append(number)"
   ],
   "metadata": {
    "collapsed": false,
    "pycharm": {
     "name": "#%%\n"
    }
   }
  },
  {
   "cell_type": "markdown",
   "source": [
    "Lastly we look at the wegweiser_senioren.pdf.\n",
    "Again, we start by formatting the file."
   ],
   "metadata": {
    "collapsed": false
   }
  },
  {
   "cell_type": "code",
   "execution_count": 14,
   "outputs": [],
   "source": [
    "def format_wegweiser_senioren():\n",
    "    \"\"\"\n",
    "    Formats the wegweiser_senioren copy txt file and prepares it for analysis.\n",
    "    \"\"\"\n",
    "    wegweiser_senioren_copy = [flyer for flyer in files_flyers_copy if 'wegweiser_senioren' in flyer][0]\n",
    "    text = \"\"\n",
    "    with open(wegweiser_senioren_copy, 'r') as wegweiser_senioren_file:\n",
    "        text += wegweiser_senioren_file.read()\n",
    "    text = text.replace('\\n', ' ')  # Get rid of newlines\n",
    "    text = text.replace('-', ' ')  # Get rid of dashes\n",
    "    text = text.replace('/', ' ')  # Get rid of slashes\n",
    "    text = text.replace('(', ' ')  # Remove parentheses\n",
    "    text = text.replace(')', ' ')  # Remove parentheses\n",
    "    text = re.sub(r'[^\\x00-\\x7F]+',' ', text)  # Get rid of thin spaces and other unicode characters\n",
    "    text = text.replace(' ', '')  # Get rid of spaces\n",
    "    with open(wegweiser_senioren_copy, 'w') as wegweiser_senioren_file:\n",
    "        wegweiser_senioren_file.writelines(text)"
   ],
   "metadata": {
    "collapsed": false,
    "pycharm": {
     "name": "#%%\n"
    }
   }
  },
  {
   "cell_type": "code",
   "execution_count": 15,
   "outputs": [],
   "source": [
    "format_wegweiser_senioren()"
   ],
   "metadata": {
    "collapsed": false,
    "pycharm": {
     "name": "#%%\n"
    }
   }
  },
  {
   "cell_type": "markdown",
   "source": [
    "Now we start extracting numbers again.\n",
    "This time we are in a similar situation to the bahnstadt.pdf problem. We have to filter for fax numbers again. Additionally the format is different."
   ],
   "metadata": {
    "collapsed": false
   }
  },
  {
   "cell_type": "code",
   "execution_count": 16,
   "outputs": [],
   "source": [
    "def find_numbers_wegweiser_senioren() -> list:\n",
    "    \"\"\"\n",
    "    Searches inside the wegweiser_senioren copy txt file for valid phone numbers.\n",
    "    :return: List of numbers found in txt file.\n",
    "    \"\"\"\n",
    "    matches = []\n",
    "    fax_numbers = []\n",
    "    wegweiser_senioren_copy = [flyer for flyer in files_flyers_copy if 'wegweiser_senioren' in flyer][0]\n",
    "    text = \"\"\n",
    "    with open(wegweiser_senioren_copy, 'r') as wegweiser_senioren_file:\n",
    "        text += wegweiser_senioren_file.read()\n",
    "    for match in re.findall(r'(110|112|115|116117|19222|116006)', text):\n",
    "        matches.append(match)\n",
    "    for match in re.findall(r'0[1-9][0-9]{6,12}', text):\n",
    "        matches.append(match)\n",
    "    for match in re.findall(r'[a-zA-Z]*fax[a-zA-Z]*(\\d+)', text, flags=re.I):  # find all fax numbers\n",
    "        fax_numbers.append(match)\n",
    "    matches = [match for match in matches if match not in fax_numbers]  # remove fax numbers from solution\n",
    "    return list(set(matches))  # convert to set to remove duplicates"
   ],
   "metadata": {
    "collapsed": false,
    "pycharm": {
     "name": "#%%\n"
    }
   }
  },
  {
   "cell_type": "code",
   "execution_count": 17,
   "outputs": [],
   "source": [
    "for number in find_numbers_bundeswehr():\n",
    "    numbers.append(number)"
   ],
   "metadata": {
    "collapsed": false,
    "pycharm": {
     "name": "#%%\n"
    }
   }
  },
  {
   "cell_type": "markdown",
   "source": [
    "Now we glue everything together.\n",
    "First, we get rid of duplicates.\n",
    "Second, we bring all numbers (except emergency short numbers) in a normalized format.\n",
    "Third, we write everything in one solution file."
   ],
   "metadata": {
    "collapsed": false,
    "pycharm": {
     "name": "#%% md\n"
    }
   }
  },
  {
   "cell_type": "code",
   "execution_count": 18,
   "outputs": [],
   "source": [
    "numbers = list(set(numbers))"
   ],
   "metadata": {
    "collapsed": false,
    "pycharm": {
     "name": "#%%\n"
    }
   }
  },
  {
   "cell_type": "code",
   "execution_count": 19,
   "outputs": [],
   "source": [
    "numbers_normalized = []\n",
    "\n",
    "for number in numbers:\n",
    "    if len(number) < 7:\n",
    "        numbers_normalized.append(number)\n",
    "    elif '+' in number:\n",
    "        numbers_normalized.append(number)\n",
    "    else:\n",
    "        numbers_normalized.append('+49' + number[1:])\n"
   ],
   "metadata": {
    "collapsed": false,
    "pycharm": {
     "name": "#%%\n"
    }
   }
  },
  {
   "cell_type": "code",
   "execution_count": 20,
   "outputs": [],
   "source": [
    "with open(os.path.dirname(files_flyers[0]) + '/numbers.txt', 'w') as writefile:\n",
    "    for number in numbers_normalized:\n",
    "        writefile.write(number)\n",
    "        writefile.write('\\n')"
   ],
   "metadata": {
    "collapsed": false,
    "pycharm": {
     "name": "#%%\n"
    }
   }
  },
  {
   "cell_type": "markdown",
   "source": [
    "## (ii) Extract URLs and mail addresses from PDF files in /flyers\n",
    "We start  by looking at our PDF files.\n",
    "\n",
    "Again, we make copies of the original parse work, format the files and then analyze and validate the urls and mail addresses found using the 'validator' library."
   ],
   "metadata": {
    "collapsed": false,
    "pycharm": {
     "name": "#%% md\n"
    }
   }
  },
  {
   "cell_type": "code",
   "execution_count": 21,
   "outputs": [],
   "source": [
    "files_flyers_copy.clear()\n",
    "def copy_subpart2_files():\n",
    "    \"\"\"\n",
    "    Copies the txt files used for the analysis. Keeps the file name, adds '_subpartX'.\n",
    "    \"\"\"\n",
    "    for flyer in files_flyers:\n",
    "        shutil.copy(flyer, flyer.replace('.txt','_subpart2.txt'))\n",
    "        files_flyers_copy.append(flyer.replace('.txt', '_subpart2.txt'))"
   ],
   "metadata": {
    "collapsed": false,
    "pycharm": {
     "name": "#%%\n"
    }
   }
  },
  {
   "cell_type": "code",
   "execution_count": 22,
   "outputs": [],
   "source": [
    "copy_subpart2_files()"
   ],
   "metadata": {
    "collapsed": false,
    "pycharm": {
     "name": "#%%\n"
    }
   }
  },
  {
   "cell_type": "markdown",
   "source": [
    "Define arrays to save urls and mail addresses to."
   ],
   "metadata": {
    "collapsed": false
   }
  },
  {
   "cell_type": "code",
   "execution_count": 23,
   "outputs": [],
   "source": [
    "urls = []\n",
    "mail_addresses = []"
   ],
   "metadata": {
    "collapsed": false,
    "pycharm": {
     "name": "#%%\n"
    }
   }
  },
  {
   "cell_type": "markdown",
   "source": [
    "Let's begin with the bahnstadt.pdf file."
   ],
   "metadata": {
    "collapsed": false
   }
  },
  {
   "cell_type": "code",
   "execution_count": 24,
   "outputs": [],
   "source": [
    "def format_bahnstadt_url_mail():\n",
    "    \"\"\"\n",
    "    Formats the bahnstadt copy txt file and prepares it for analysis.\n",
    "    \"\"\"\n",
    "    bahnstadt_copy = [flyer for flyer in files_flyers_copy if 'bahnstadt' in flyer][0]\n",
    "    text = \"\"\n",
    "    with open(bahnstadt_copy, 'r') as bahnstadt_file:\n",
    "        text += bahnstadt_file.read()\n",
    "    text = text.replace('\\n', ' ')  # Get rid of newlines\n",
    "    text = text.lower()\n",
    "    with open(bahnstadt_copy, 'w') as bahnstadt_file:\n",
    "        bahnstadt_file.writelines(text)"
   ],
   "metadata": {
    "collapsed": false,
    "pycharm": {
     "name": "#%%\n"
    }
   }
  },
  {
   "cell_type": "code",
   "execution_count": 25,
   "outputs": [],
   "source": [
    "format_bahnstadt_url_mail()"
   ],
   "metadata": {
    "collapsed": false,
    "pycharm": {
     "name": "#%%\n"
    }
   }
  },
  {
   "cell_type": "markdown",
   "source": [
    "First find urls in bahnstadt text."
   ],
   "metadata": {
    "collapsed": false
   }
  },
  {
   "cell_type": "code",
   "execution_count": 46,
   "outputs": [],
   "source": [
    "def find_urls_bahnstadt() -> list:\n",
    "    \"\"\"\n",
    "    Searches inside the bahnstadt copy txt file for valid urls.\n",
    "    :return: List of urls found in txt file.\n",
    "    \"\"\"\n",
    "    potential_urls = []\n",
    "    final_urls = []\n",
    "    bahnstadt_copy = [flyer for flyer in files_flyers_copy if 'bahnstadt' in flyer][0]\n",
    "    text = \"\"\n",
    "    with open(bahnstadt_copy, 'r') as bahnstadt_file:\n",
    "        text += bahnstadt_file.read()\n",
    "    text = text.split(' ')\n",
    "    for element in text:\n",
    "        if '.' in element:  # every website contains at least one dot\n",
    "            potential_urls.append(element)\n",
    "\n",
    "    # Source: https://stackoverflow.com/questions/7160737/how-to-validate-a-url-in-python-malformed-or-not (Answer by cetver)\n",
    "    is_url_regex = re.compile(\n",
    "        r'^www.' # starts with 'www.'\n",
    "        r'(?:(?:[A-Z0-9](?:[A-Z0-9-]{0,61}[A-Z0-9])?\\.)+(?:[A-Z]{2,6}\\.?|[A-Z0-9-]{2,}\\.?)|' #domain...\n",
    "        r'localhost|' #localhost...\n",
    "        r'\\d{1,3}\\.\\d{1,3}\\.\\d{1,3}\\.\\d{1,3})' # ...or ip\n",
    "        r'(?::\\d+)?' # optional port\n",
    "        r'(?:/?|[/?]\\S+)$', re.IGNORECASE)\n",
    "\n",
    "    for url in potential_urls:\n",
    "        match = re.match(r'([\\w.-]+\\.(de|com))\\w+', url, flags=re.IGNORECASE)\n",
    "        if re.match(is_url_regex, url) is not None:\n",
    "            if match:\n",
    "                url = match.groups(0)[0]\n",
    "            try:\n",
    "                print(\"Start validating:\", url)\n",
    "                if requests.get('https://' + url).ok or requests.get('http://' + url).ok:\n",
    "                    final_urls.append(url)\n",
    "            except requests.ConnectionError:\n",
    "                print(\"Error: Url\", url, \"is not valid.\")\n",
    "\n",
    "    return list(set(final_urls))  # convert to set to remove duplicates"
   ],
   "metadata": {
    "collapsed": false,
    "pycharm": {
     "name": "#%%\n"
    }
   }
  },
  {
   "cell_type": "code",
   "execution_count": 48,
   "outputs": [
    {
     "name": "stdout",
     "output_type": "stream",
     "text": [
      "Start validating: www.zahnarzt-heidelberg-kirchheim.de\n",
      "Start validating: www.frauennotruf-heidelberg.de\n",
      "Start validating: www.theatergemeinde-heidelberg.de\n",
      "Start validating: www.kreisverkehrswacht-rhein-neckar.de\n",
      "Start validating: www.weststadtverein.de\n",
      "Start validating: www.bundespolizei.de\n",
      "Start validating: www.malteser.de\n",
      "Start validating: www.johanniter-baden.de\n",
      "Error: Url www.johanniter-baden.de is not valid.\n",
      "Start validating: www.fgz-heidelberg.de\n",
      "Start validating: www.selbsthilfe-heidelberg.de\n",
      "Start validating: www.bahnstadtverein.de/.\n",
      "Start validating: www.bahnstadtverein.de/\n",
      "Start validating: www.offener-mrt.com\n",
      "Start validating: www.offener-mrt.com\n",
      "Start validating: www.hd-bergheim.de.\n",
      "Start validating: www.bestattungshaus-heidelberg.de\n",
      "Start validating: www.fgz-heidelberg.de\n",
      "Start validating: www.facebook.com/fgzheidelberg\n",
      "Start validating: www.bibez.de\n",
      "Start validating: www.weststadtverein.de/festbuch\n",
      "Start validating: www.ihkkg.de\n",
      "Start validating: www.vhs-hd.de\n",
      "Start validating: www.vhs-hd.de\n",
      "Start validating: www.heidelbergerprivatschulcen-trum.de\n",
      "Error: Url www.heidelbergerprivatschulcen-trum.de is not valid.\n",
      "Start validating: www.landhausschule.de/\n",
      "Start validating: www.marie-marcks-schule.de\n",
      "Start validating: www.musikschule.heidelberg.de\n",
      "Start validating: www.helmholtz-heidelberg.de\n",
      "Start validating: www.jgs-heidelberg.de\n",
      "Start validating: www.pestalozzischule-heidelberg.de\n",
      "Start validating: www.wilckensschule-heidelberg.de\n",
      "Start validating: www.tg-heidelberg.de\n",
      "Error: Url www.tg-heidelberg.de is not valid.\n",
      "Start validating: www.seniorenzentren-hd.de.\n",
      "Start validating: www.kirche-in-der-bahnstadt.de\n",
      "Start validating: www.baz-medien.de\n",
      "Error: Url www.baz-medien.de is not valid.\n",
      "Start validating: www.as-airportservice.de\n",
      "Error: Url www.as-airportservice.de is not valid.\n",
      "Start validating: www.dgtcm.de\n",
      "Start validating: www.tcm-akupunktur-greten.de\n",
      "Start validating: www.tcm-akupunktur-greten.de\n",
      "Start validating: www.dgtcm.de\n",
      "Start validating: www.swhd.de/sicherdaheim68\n",
      "Start validating: www.malteser-hausnotruf.de\n",
      "Start validating: www.malteser-menueservice.de\n"
     ]
    }
   ],
   "source": [
    "for url in find_urls_bahnstadt():\n",
    "    urls.append(url)"
   ],
   "metadata": {
    "collapsed": false,
    "pycharm": {
     "name": "#%%\n"
    }
   }
  },
  {
   "cell_type": "markdown",
   "source": [
    "Let's continue with urls from the bundeswehr.pdf file."
   ],
   "metadata": {
    "collapsed": false
   }
  },
  {
   "cell_type": "code",
   "execution_count": 49,
   "outputs": [],
   "source": [
    "def format_bundeswehr_url_mail():\n",
    "    \"\"\"\n",
    "    Formats the bahnstadt copy txt file and prepares it for analysis.\n",
    "    \"\"\"\n",
    "    bundeswehr_copy = [flyer for flyer in files_flyers_copy if 'bundeswehr' in flyer][0]\n",
    "    text = \"\"\n",
    "    with open(bundeswehr_copy, 'r') as bundeswehr_file:\n",
    "        text += bundeswehr_file.read()\n",
    "    text = text.replace('\\n', ' ')  # Get rid of newlines\n",
    "    text = text.lower()\n",
    "    with open(bundeswehr_copy, 'w') as bundeswehr_file:\n",
    "        bundeswehr_file.writelines(text)"
   ],
   "metadata": {
    "collapsed": false,
    "pycharm": {
     "name": "#%%\n"
    }
   }
  },
  {
   "cell_type": "code",
   "execution_count": 50,
   "outputs": [],
   "source": [
    "format_bundeswehr_url_mail()"
   ],
   "metadata": {
    "collapsed": false,
    "pycharm": {
     "name": "#%%\n"
    }
   }
  },
  {
   "cell_type": "code",
   "execution_count": null,
   "outputs": [],
   "source": [],
   "metadata": {
    "collapsed": false,
    "pycharm": {
     "name": "#%%\n"
    }
   }
  }
 ],
 "metadata": {
  "kernelspec": {
   "display_name": "Python 3",
   "language": "python",
   "name": "python3"
  },
  "language_info": {
   "codemirror_mode": {
    "name": "ipython",
    "version": 2
   },
   "file_extension": ".py",
   "mimetype": "text/x-python",
   "name": "python",
   "nbconvert_exporter": "python",
   "pygments_lexer": "ipython2",
   "version": "2.7.6"
  }
 },
 "nbformat": 4,
 "nbformat_minor": 0
}