{
 "cells": [
  {
   "cell_type": "markdown",
   "source": [
    "# Assignment 1, ex3, part3\n",
    "by Raphael Ebner, Nicolas Hellthaler, Bastian Müller"
   ],
   "metadata": {
    "collapsed": false
   }
  },
  {
   "cell_type": "code",
   "execution_count": 9,
   "outputs": [],
   "source": [
    "# Imports\n",
    "import os\n",
    "import shutil\n",
    "import re"
   ],
   "metadata": {
    "collapsed": false,
    "pycharm": {
     "name": "#%%\n"
    }
   }
  },
  {
   "cell_type": "markdown",
   "source": [
    "Get arrays with paths to all .txt files generated using 'pypdf2'."
   ],
   "metadata": {
    "collapsed": false
   }
  },
  {
   "cell_type": "code",
   "execution_count": 19,
   "metadata": {
    "collapsed": true
   },
   "outputs": [],
   "source": [
    "folders = ['flyers', 'iban', 'scans']\n",
    "files = []\n",
    "\n",
    "for folder in folders:\n",
    "    for file in os.listdir(os.path.join(os.path.dirname(os.path.dirname(os.getcwd())), 'files', folder)):\n",
    "        name, ext = os.path.splitext(file)\n",
    "        if ext == '.pdf':\n",
    "            path = os.path.join(os.path.dirname(os.path.dirname(os.getcwd())), 'files', folder, file)\n",
    "            files.append(os.path.join(os.path.dirname(path), os.path.splitext(file)[0] + \"_\" + \"pypdf2\" + \".txt\"))\n",
    "\n",
    "files_flyers = [file for file in files if \"flyers\" in file]\n",
    "files_flyers_copy = []\n",
    "files_iban = [file for file in files if \"iban\" in file]\n",
    "files_iban_copy = []\n",
    "files_scans = [file for file in files if \"scans\" in file]\n",
    "files_scans_copy = []"
   ]
  },
  {
   "cell_type": "markdown",
   "source": [
    "## (i) Extract phone numbers from PDF files in /flyers\n",
    "We start by identifying what format the phone numbers are in by looking at our PDF files."
   ],
   "metadata": {
    "collapsed": false
   }
  },
  {
   "cell_type": "markdown",
   "source": [
    "Takeaways bahnstadt.pdf\n",
    "- Most start with 0\n",
    "- Have to exclude fax numbers, often prefixed by 'Fax' or 'Telefax'\n",
    "- Different formats like '0621 / 89..' or '0621 - 89 ..'\n",
    "- Different length\n",
    "- Some phone numbers don't have a prefix because the prefix is mentioned in the row above (no solution found)\n",
    "\n",
    "Takeaways bundeswehr.pdf\n",
    "- Only use first number, second (if exists) is fax number\n",
    "- 'Telephone IVB' in third column?\n",
    "\n",
    "Takeaways wegweiser_senioren.pdf\n",
    "- Different formats '(0621) 89 ..'\n",
    "- Again sometimes no prefix, e.g. '(0 62 21) 58-38340, 58-38330'\n",
    "- Replace thin spaces in txt file"
   ],
   "metadata": {
    "collapsed": false
   }
  },
  {
   "cell_type": "markdown",
   "source": [
    "First we copy each txt file to format it later."
   ],
   "metadata": {
    "collapsed": false
   }
  },
  {
   "cell_type": "code",
   "execution_count": 20,
   "outputs": [],
   "source": [
    "def copy_txt_files():\n",
    "    \"\"\"\n",
    "    Copies the txt files used for the analysis. Keeps the file name, adds '_copy'.\n",
    "    \"\"\"\n",
    "    for flyer in files_flyers:\n",
    "        shutil.copy(flyer, flyer.replace('.txt','_copy.txt'))\n",
    "        files_flyers_copy.append(flyer.replace('.txt', '_copy.txt'))"
   ],
   "metadata": {
    "collapsed": false,
    "pycharm": {
     "name": "#%%\n"
    }
   }
  },
  {
   "cell_type": "code",
   "execution_count": 21,
   "outputs": [],
   "source": [
    "copy_txt_files()"
   ],
   "metadata": {
    "collapsed": false,
    "pycharm": {
     "name": "#%%\n"
    }
   }
  },
  {
   "cell_type": "markdown",
   "source": [
    "Based on the findings above we write three different algorithms to takle each .pdf file individually.\n",
    "We start by formatting the txt files and then make use of regex extensively."
   ],
   "metadata": {
    "collapsed": false
   }
  },
  {
   "cell_type": "code",
   "execution_count": 109,
   "outputs": [],
   "source": [
    "numbers = []"
   ],
   "metadata": {
    "collapsed": false,
    "pycharm": {
     "name": "#%%\n"
    }
   }
  },
  {
   "cell_type": "code",
   "execution_count": 105,
   "outputs": [],
   "source": [
    "def format_bahnstadt():\n",
    "    \"\"\"\n",
    "    Formats the bahnstadt copy txt file and prepares it for analysis.\n",
    "    \"\"\"\n",
    "    bahnstadt_copy = [flyer for flyer in files_flyers_copy if 'bahnstadt' in flyer][0]\n",
    "    text = \"\"\n",
    "    with open(bahnstadt_copy, 'r') as bahnstadt_file:\n",
    "        text += bahnstadt_file.read()\n",
    "    text = text.replace('\\n', ' ')  # Get rid of newlines\n",
    "    text = text.replace('-', ' ')  # Get rid of dashes\n",
    "    text = text.replace('/', ' ')  # Get rid of slashes\n",
    "    text = text.replace(' ', '')  # Get rid of spaces\n",
    "    with open(bahnstadt_copy, 'w') as bahnstadt_file:\n",
    "        bahnstadt_file.writelines(text)"
   ],
   "metadata": {
    "collapsed": false,
    "pycharm": {
     "name": "#%%\n"
    }
   }
  },
  {
   "cell_type": "code",
   "execution_count": 106,
   "outputs": [],
   "source": [
    "format_bahnstadt()"
   ],
   "metadata": {
    "collapsed": false,
    "pycharm": {
     "name": "#%%\n"
    }
   }
  },
  {
   "cell_type": "markdown",
   "source": [
    "Now, we get all numbers that:\n",
    "- are so called 'Notrufnummern' (3 to 6 digits)\n",
    "- start with '0' and are longer than 5 (normal numbers without prefix or with prefix, use prefix from number before)\n",
    "- are not prefixed by a string containing 'fax'"
   ],
   "metadata": {
    "collapsed": false
   }
  },
  {
   "cell_type": "code",
   "execution_count": 107,
   "outputs": [],
   "source": [
    "def find_numbers_bahnstadt() -> list:\n",
    "    \"\"\"\n",
    "    Searches inside the bahnstadt copy txt file for valid phone numbers.\n",
    "    :return: List of numbers found in txt file.\n",
    "    \"\"\"\n",
    "    matches = []\n",
    "    fax_numbers = []\n",
    "    bahnstadt_copy = [flyer for flyer in files_flyers_copy if 'bahnstadt' in flyer][0]\n",
    "    text = \"\"\n",
    "    with open(bahnstadt_copy, 'r') as bahnstadt_file:\n",
    "        text += bahnstadt_file.read()\n",
    "    for match in re.findall(r'(110|112|115|116117|19222|116006)', text):\n",
    "        matches.append(match)\n",
    "    for match in re.findall(r'0[1-9][0-9]{6,12}', text):\n",
    "        matches.append(match)\n",
    "    for match in re.findall(r'[a-zA-Z]*fax[a-zA-Z]*(\\d+)', text, flags=re.I):  # find all fax numbers\n",
    "        fax_numbers.append(match)\n",
    "    matches = [match for match in matches if match not in fax_numbers]  # remove fax numbers from solution\n",
    "    return list(set(matches))  # convert to set to remove duplicates"
   ],
   "metadata": {
    "collapsed": false,
    "pycharm": {
     "name": "#%%\n"
    }
   }
  },
  {
   "cell_type": "markdown",
   "source": [
    "Add numbers from bahnstadt to numbers array"
   ],
   "metadata": {
    "collapsed": false
   }
  },
  {
   "cell_type": "code",
   "execution_count": 112,
   "outputs": [],
   "source": [
    "for number in find_numbers_bahnstadt():\n",
    "    numbers.append(number)"
   ],
   "metadata": {
    "collapsed": false,
    "pycharm": {
     "name": "#%%\n"
    }
   }
  },
  {
   "cell_type": "markdown",
   "source": [
    "Prepare bundeswehr file"
   ],
   "metadata": {
    "collapsed": false
   }
  },
  {
   "cell_type": "code",
   "execution_count": 113,
   "outputs": [],
   "source": [
    "def format_bundeswehr():\n",
    "    \"\"\"\n",
    "    Formats the bahnstadt copy txt file and prepares it for analysis.\n",
    "    \"\"\"\n",
    "    bundeswehr_copy = [flyer for flyer in files_flyers_copy if 'bundeswehr' in flyer][0]\n",
    "    text = \"\"\n",
    "    with open(bundeswehr_copy, 'r') as bundeswehr_file:\n",
    "        text += bundeswehr_file.read()\n",
    "    text = text.replace('\\n', ' ')  # Get rid of newlines\n",
    "    text = text.replace('-', ' ')  # Get rid of dashes\n",
    "    text = text.replace('/', ' ')  # Get rid of slashes\n",
    "    text = text.replace(' ', '')  # Get rid of spaces\n",
    "    with open(bundeswehr_copy, 'w') as bundeswehr_file:\n",
    "        bundeswehr_file.writelines(text)"
   ],
   "metadata": {
    "collapsed": false,
    "pycharm": {
     "name": "#%%\n"
    }
   }
  },
  {
   "cell_type": "code",
   "execution_count": 114,
   "outputs": [],
   "source": [
    "format_bundeswehr()"
   ],
   "metadata": {
    "collapsed": false,
    "pycharm": {
     "name": "#%%\n"
    }
   }
  },
  {
   "cell_type": "markdown",
   "source": [
    "It is (at least for us) impossible to tell when looking at the txt file that was generated what a telephone and what a fax number is.\n",
    "So for this part, we will ignore all numbers but the first one for each entry. This is fine for the majority of cases.\n",
    "The only exception is, when we find four numbers, then we add the first and second to last ones to our solution."
   ],
   "metadata": {
    "collapsed": false
   }
  },
  {
   "cell_type": "code",
   "execution_count": 161,
   "outputs": [],
   "source": [
    "def find_numbers_bundeswehr() -> list:\n",
    "    \"\"\"\n",
    "    Searches inside the bundeswehr copy txt file for valid phone numbers.\n",
    "    :return: List of numbers found in txt file.\n",
    "    \"\"\"\n",
    "    matches = []\n",
    "    bundeswehr_copy = [flyer for flyer in files_flyers_copy if 'bundeswehr' in flyer][0]\n",
    "    text = \"\"\n",
    "    with open(bundeswehr_copy, 'r') as bundeswehr_file:\n",
    "        text += bundeswehr_file.read()\n",
    "    for match in re.findall(r'(\\+\\d+)\\+\\d+(\\+\\d+)\\+\\d+', text):  # extract two phone numbers in case four numbers were found\n",
    "        matches.append(match[0])\n",
    "        matches.append(match[1])\n",
    "    for match in re.findall(r'(\\+\\d+)\\+\\d+(\\+\\d+)[^+]', text):  # extract two phone numbers in case three numbers where found. In almost all cases, when three numbers were provided they are in the order phone, fax, phone\n",
    "        matches.append(match[0])\n",
    "        matches.append(match[1])\n",
    "    for match in re.findall(r'(\\+\\d+)\\+\\d+[^+]', text):  # extract phone number in case only one number is found\n",
    "        matches.append(match)\n",
    "    return list(set(matches))  # convert to set to remove duplicates"
   ],
   "metadata": {
    "collapsed": false,
    "pycharm": {
     "name": "#%%\n"
    }
   }
  },
  {
   "cell_type": "code",
   "execution_count": 166,
   "outputs": [],
   "source": [
    "for number in find_numbers_bundeswehr():\n",
    "    numbers.append(number)"
   ],
   "metadata": {
    "collapsed": false,
    "pycharm": {
     "name": "#%%\n"
    }
   }
  },
  {
   "cell_type": "markdown",
   "source": [
    "Lastly we look at the wegweiser_senioren.pdf.\n",
    "Again, we start by formatting the file."
   ],
   "metadata": {
    "collapsed": false
   }
  },
  {
   "cell_type": "code",
   "execution_count": 181,
   "outputs": [],
   "source": [
    "def format_wegweiser_senioren():\n",
    "    \"\"\"\n",
    "    Formats the wegweiser_senioren copy txt file and prepares it for analysis.\n",
    "    \"\"\"\n",
    "    wegweiser_senioren_copy = [flyer for flyer in files_flyers_copy if 'wegweiser_senioren' in flyer][0]\n",
    "    text = \"\"\n",
    "    with open(wegweiser_senioren_copy, 'r') as wegweiser_senioren_file:\n",
    "        text += wegweiser_senioren_file.read()\n",
    "    text = text.replace('\\n', ' ')  # Get rid of newlines\n",
    "    text = text.replace('-', ' ')  # Get rid of dashes\n",
    "    text = text.replace('/', ' ')  # Get rid of slashes\n",
    "    text = text.replace('(', ' ')  # Remove parentheses\n",
    "    text = text.replace(')', ' ')  # Remove parentheses\n",
    "    text = re.sub(r'[^\\x00-\\x7F]+',' ', text)  # Get rid of thin spaces and other unicode characters\n",
    "    text = text.replace(' ', '')  # Get rid of spaces\n",
    "    with open(wegweiser_senioren_copy, 'w') as wegweiser_senioren_file:\n",
    "        wegweiser_senioren_file.writelines(text)"
   ],
   "metadata": {
    "collapsed": false,
    "pycharm": {
     "name": "#%%\n"
    }
   }
  },
  {
   "cell_type": "code",
   "execution_count": 182,
   "outputs": [],
   "source": [
    "format_wegweiser_senioren()"
   ],
   "metadata": {
    "collapsed": false,
    "pycharm": {
     "name": "#%%\n"
    }
   }
  },
  {
   "cell_type": "markdown",
   "source": [
    "Now we start extracting numbers again.\n",
    "This time we are in a similar situation to the bahnstadt.pdf problem. We have to filter for fax numbers again. Additionally the format is different."
   ],
   "metadata": {
    "collapsed": false
   }
  },
  {
   "cell_type": "code",
   "execution_count": 183,
   "outputs": [],
   "source": [
    "def find_numbers_wegweiser_senioren() -> list:\n",
    "    \"\"\"\n",
    "    Searches inside the wegweiser_senioren copy txt file for valid phone numbers.\n",
    "    :return: List of numbers found in txt file.\n",
    "    \"\"\"\n",
    "    matches = []\n",
    "    fax_numbers = []\n",
    "    wegweiser_senioren_copy = [flyer for flyer in files_flyers_copy if 'wegweiser_senioren' in flyer][0]\n",
    "    text = \"\"\n",
    "    with open(wegweiser_senioren_copy, 'r') as wegweiser_senioren_file:\n",
    "        text += wegweiser_senioren_file.read()\n",
    "    for match in re.findall(r'(110|112|115|116117|19222|116006)', text):\n",
    "        matches.append(match)\n",
    "    for match in re.findall(r'0[1-9][0-9]{6,12}', text):\n",
    "        matches.append(match)\n",
    "    for match in re.findall(r'[a-zA-Z]*fax[a-zA-Z]*(\\d+)', text, flags=re.I):  # find all fax numbers\n",
    "        fax_numbers.append(match)\n",
    "    matches = [match for match in matches if match not in fax_numbers]  # remove fax numbers from solution\n",
    "    return list(set(matches))  # convert to set to remove duplicates"
   ],
   "metadata": {
    "collapsed": false,
    "pycharm": {
     "name": "#%%\n"
    }
   }
  },
  {
   "cell_type": "code",
   "execution_count": 185,
   "outputs": [],
   "source": [
    "for number in find_numbers_bundeswehr():\n",
    "    numbers.append(number)"
   ],
   "metadata": {
    "collapsed": false,
    "pycharm": {
     "name": "#%%\n"
    }
   }
  },
  {
   "cell_type": "markdown",
   "source": [
    "Now we glue everything together.\n",
    "First, we get rid of duplicates.\n",
    "Second, we bring all numbers (except emergency short numbers) in a normalized format.\n",
    "Third, we write everything in one solution file."
   ],
   "metadata": {
    "collapsed": false,
    "pycharm": {
     "name": "#%% md\n"
    }
   }
  },
  {
   "cell_type": "code",
   "execution_count": 186,
   "outputs": [],
   "source": [
    "numbers = list(set(numbers))"
   ],
   "metadata": {
    "collapsed": false,
    "pycharm": {
     "name": "#%%\n"
    }
   }
  },
  {
   "cell_type": "code",
   "execution_count": 188,
   "outputs": [],
   "source": [
    "numbers_normalized = []\n",
    "\n",
    "for number in numbers:\n",
    "    if len(number) < 7:\n",
    "        numbers_normalized.append(number)\n",
    "    elif '+' in number:\n",
    "        numbers_normalized.append(number)\n",
    "    else:\n",
    "        numbers_normalized.append('+49' + number[1:])\n"
   ],
   "metadata": {
    "collapsed": false,
    "pycharm": {
     "name": "#%%\n"
    }
   }
  },
  {
   "cell_type": "code",
   "execution_count": 195,
   "outputs": [],
   "source": [
    "with open(os.path.dirname(files_flyers[0]) + '/numbers.txt', 'w') as writefile:\n",
    "    for number in numbers_normalized:\n",
    "        writefile.write(number)\n",
    "        writefile.write('\\n')"
   ],
   "metadata": {
    "collapsed": false,
    "pycharm": {
     "name": "#%%\n"
    }
   }
  }
 ],
 "metadata": {
  "kernelspec": {
   "display_name": "Python 3",
   "language": "python",
   "name": "python3"
  },
  "language_info": {
   "codemirror_mode": {
    "name": "ipython",
    "version": 2
   },
   "file_extension": ".py",
   "mimetype": "text/x-python",
   "name": "python",
   "nbconvert_exporter": "python",
   "pygments_lexer": "ipython2",
   "version": "2.7.6"
  }
 },
 "nbformat": 4,
 "nbformat_minor": 0
}