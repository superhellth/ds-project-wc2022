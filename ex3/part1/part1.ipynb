{
 "cells": [
  {
   "cell_type": "markdown",
   "source": [
    "# Assignment 1, ex3, part1\n",
    "by Raphael Ebner, Nicolas Hellthaler, Bastian Müller"
   ],
   "metadata": {
    "collapsed": false
   }
  },
  {
   "cell_type": "code",
   "execution_count": 2,
   "metadata": {
    "collapsed": true
   },
   "outputs": [],
   "source": [
    "# Imports\n",
    "# pdf tools\n",
    "import PyPDF2\n",
    "from pdfminer.pdfinterp import PDFResourceManager, PDFPageInterpreter\n",
    "from pdfminer.converter import TextConverter\n",
    "from pdfminer.layout import LAParams\n",
    "from pdfminer.pdfpage import PDFPage\n",
    "from io import StringIO\n",
    "\n",
    "# file tools\n",
    "import os\n",
    "\n",
    "# analyzer tools\n",
    "from difflib import SequenceMatcher"
   ]
  },
  {
   "cell_type": "code",
   "execution_count": 3,
   "outputs": [],
   "source": [
    "def write_text_from_pdf(pdf_file_path, method):\n",
    "    \"\"\"\n",
    "    Converts a *.pdf file into plain text using a specific library, then writes the text of the pdf file into a txt file.\n",
    "    :param pdf_file_path: path to *.pdf file\n",
    "    :param method: one of two possible options: \"pypdf2\" or \"OTHER_LIBRARY\"\n",
    "    \"\"\"\n",
    "    target_path = os.path.dirname(pdf_file_path)\n",
    "    target_name = os.path.splitext(os.path.basename(pdf_file_path))[0]  # splitext: file name without extension\n",
    "\n",
    "    print(\"Start working on file\", pdf_file_path, \"with method\", method)\n",
    "\n",
    "    if method.lower() == \"pypdf2\":\n",
    "        text = get_text_from_pdf_using_pypdf2(pdf_file_path)\n",
    "    elif method.lower() == \"pdfminer\":\n",
    "        text = get_text_from_pdf_using_pdfminer(pdf_file_path)\n",
    "    else:\n",
    "        raise ValueError(\"Method '\" + method + \"' does not exist.\")\n",
    "\n",
    "    write_text_to_file(target_path, target_name, method, text)"
   ],
   "metadata": {
    "collapsed": false,
    "pycharm": {
     "name": "#%%\n"
    }
   }
  },
  {
   "cell_type": "code",
   "execution_count": 4,
   "outputs": [],
   "source": [
    "def get_text_from_pdf_using_pypdf2(pdf_file_path):\n",
    "    \"\"\"\n",
    "    Returns the text found in the pdf.\n",
    "    :param pdf_file_path: path to pdf file\n",
    "    :return: text found in pdf file\n",
    "    \"\"\"\n",
    "    with open(pdf_file_path,'rb') as pdf_file:\n",
    "        pdf_reader = PyPDF2.PdfReader(pdf_file, strict=False)\n",
    "        amount_pages = pdf_reader.numPages\n",
    "        text = \"\"\n",
    "        for page_num in range(amount_pages):\n",
    "            page_object = pdf_reader.getPage(page_num)\n",
    "            text += page_object.extractText()\n",
    "    return text"
   ],
   "metadata": {
    "collapsed": false,
    "pycharm": {
     "name": "#%%\n"
    }
   }
  },
  {
   "cell_type": "code",
   "execution_count": 5,
   "outputs": [],
   "source": [
    "def get_text_from_pdf_using_pdfminer(pdf_file_path):\n",
    "    \"\"\"\n",
    "    Returns the text found in the pdf.\n",
    "    :param pdf_file_path: path to pdf file\n",
    "    :return: text found in pdf file\n",
    "    \"\"\"\n",
    "\n",
    "    # Source (slightly adjusted): https://stackoverflow.com/questions/26494211/extracting-text-from-a-pdf-file-using-pdfminer-in-python\n",
    "\n",
    "    rsrcmgr = PDFResourceManager()\n",
    "    retstr = StringIO()\n",
    "    laparams = LAParams()\n",
    "    device = TextConverter(rsrcmgr, retstr, laparams=laparams)\n",
    "    with open(pdf_file_path, 'rb') as fp:\n",
    "        interpreter = PDFPageInterpreter(rsrcmgr, device)\n",
    "        password = \"\"\n",
    "        maxpages = 0\n",
    "        caching = True\n",
    "        pagenos=set()\n",
    "\n",
    "        for page in PDFPage.get_pages(fp, pagenos, maxpages=maxpages, password=password,caching=caching, check_extractable=True):\n",
    "            interpreter.process_page(page)\n",
    "\n",
    "        text = retstr.getvalue()\n",
    "\n",
    "    device.close()\n",
    "    retstr.close()\n",
    "    return text"
   ],
   "metadata": {
    "collapsed": false,
    "pycharm": {
     "name": "#%%\n"
    }
   }
  },
  {
   "cell_type": "code",
   "execution_count": 6,
   "outputs": [],
   "source": [
    "def write_text_to_file(path, name, method, text):\n",
    "    \"\"\"\n",
    "    Writes text to a file named name.txt in target_path.\n",
    "    :param path: path where file should be written to\n",
    "    :param name: name of the txt file\n",
    "    :param method: method that was used to extract the text\n",
    "    :param text: text of the txt file\n",
    "    \"\"\"\n",
    "    with open(os.path.join(path, name + \"_\" + method + \".txt\"), \"w\") as writefile:\n",
    "        writefile.writelines(text)"
   ],
   "metadata": {
    "collapsed": false,
    "pycharm": {
     "name": "#%%\n"
    }
   }
  },
  {
   "cell_type": "markdown",
   "source": [
    "## Run pdf to txt on all provided files using both methods:\n",
    "## *Warning*: pdfminer takes a long time analyzing 'bundeswehr.pdf'"
   ],
   "metadata": {
    "collapsed": false
   }
  },
  {
   "cell_type": "code",
   "execution_count": 7,
   "outputs": [
    {
     "name": "stdout",
     "output_type": "stream",
     "text": [
      "Start working on file /Users/bastianmuller/Desktop/Programming/Python/ds-project-wc2022/files/flyers/wegweiser_senioren.pdf with method pypdf2\n",
      "Start working on file /Users/bastianmuller/Desktop/Programming/Python/ds-project-wc2022/files/flyers/wegweiser_senioren.pdf with method pdfminer\n",
      "Start working on file /Users/bastianmuller/Desktop/Programming/Python/ds-project-wc2022/files/flyers/bahnstadt.pdf with method pypdf2\n",
      "Start working on file /Users/bastianmuller/Desktop/Programming/Python/ds-project-wc2022/files/flyers/bahnstadt.pdf with method pdfminer\n",
      "Start working on file /Users/bastianmuller/Desktop/Programming/Python/ds-project-wc2022/files/flyers/bundeswehr.pdf with method pypdf2\n",
      "Start working on file /Users/bastianmuller/Desktop/Programming/Python/ds-project-wc2022/files/flyers/bundeswehr.pdf with method pdfminer\n",
      "Start working on file /Users/bastianmuller/Desktop/Programming/Python/ds-project-wc2022/files/iban/liste1.pdf with method pypdf2\n",
      "Start working on file /Users/bastianmuller/Desktop/Programming/Python/ds-project-wc2022/files/iban/liste1.pdf with method pdfminer\n",
      "Start working on file /Users/bastianmuller/Desktop/Programming/Python/ds-project-wc2022/files/scans/double_ocr.pdf with method pypdf2\n",
      "Start working on file /Users/bastianmuller/Desktop/Programming/Python/ds-project-wc2022/files/scans/double_ocr.pdf with method pdfminer\n",
      "Start working on file /Users/bastianmuller/Desktop/Programming/Python/ds-project-wc2022/files/scans/single_ocr.pdf with method pypdf2\n",
      "Start working on file /Users/bastianmuller/Desktop/Programming/Python/ds-project-wc2022/files/scans/single_ocr.pdf with method pdfminer\n"
     ]
    }
   ],
   "source": [
    "folders = ['flyers', 'iban', 'scans']\n",
    "\n",
    "files_method_pypdf2 = []\n",
    "files_method_pdfminer = []\n",
    "\n",
    "for folder in folders:\n",
    "    for file in os.listdir(os.path.join(os.path.dirname(os.path.dirname(os.getcwd())), 'files', folder)):\n",
    "        name, ext = os.path.splitext(file)\n",
    "        if ext == '.pdf':\n",
    "            path = os.path.join(os.path.dirname(os.path.dirname(os.getcwd())), 'files', folder, file)\n",
    "            write_text_from_pdf(path, 'pypdf2')\n",
    "            write_text_from_pdf(path, 'pdfminer')\n",
    "            files_method_pypdf2.append(os.path.join(os.path.dirname(path), os.path.splitext(file)[0] + \"_\" + \"pypdf2\" + \".txt\"))\n",
    "            files_method_pdfminer.append(os.path.join(os.path.dirname(path), os.path.splitext(file)[0] + \"_\" + \"pdfminer\" + \".txt\"))"
   ],
   "metadata": {
    "collapsed": false,
    "pycharm": {
     "name": "#%%\n"
    }
   }
  },
  {
   "cell_type": "markdown",
   "source": [
    "# Analysis\n",
    "## Part 1: Quality\n",
    "Quality in this case refers to the readability of the text document and the accuracy of the extracted information.\n",
    "\n",
    "We observed that pypdf2 was able to extract information in a more readable way.\n",
    "An example for that would be 'iban/liste1.pdf' file. Both were able to extract about the same information but in case of 'pypdf2' we get an iban in one row, while with 'pdfminer' we get the country id over some rows and after that the numbers belonging to the id. It would take way more time to extract the correct ibans using this text file.\n",
    "Another example of that behavior would be the 'flyers/bundeswehr.pdf' file. It is not really clear where which numbers belong to. While using the 'pypdf2' generated text file we can clearly observe a pattern which makes text analytics work later easier.\n",
    "\n",
    "Also, from an accuracy perspective it seems like the 'pypdf2' extraction is better.\n",
    "For example, we get 'BERGH EIM' from 'pdfminer' and 'BERGHEIM' from 'pypdf2' in the 'flyers/bahnstadt.pdf' file."
   ],
   "metadata": {
    "collapsed": false
   }
  },
  {
   "cell_type": "markdown",
   "source": [
    "## Part 2: Quantity"
   ],
   "metadata": {
    "collapsed": false
   }
  },
  {
   "cell_type": "code",
   "execution_count": 8,
   "outputs": [
    {
     "name": "stdout",
     "output_type": "stream",
     "text": [
      "Amount characters pypdf2: 111620\n",
      "Amount characters pdfminer: 111710\n",
      "pypdf2 more? False\n",
      "---\n",
      "Amount characters pypdf2: 110096\n",
      "Amount characters pdfminer: 109901\n",
      "pypdf2 more? True\n",
      "---\n",
      "Amount characters pypdf2: 297143\n",
      "Amount characters pdfminer: 297223\n",
      "pypdf2 more? False\n",
      "---\n",
      "Amount characters pypdf2: 3449\n",
      "Amount characters pdfminer: 3451\n",
      "pypdf2 more? False\n",
      "---\n",
      "Amount characters pypdf2: 4892\n",
      "Amount characters pdfminer: 4893\n",
      "pypdf2 more? False\n",
      "---\n",
      "Amount characters pypdf2: 13043\n",
      "Amount characters pdfminer: 13044\n",
      "pypdf2 more? False\n",
      "---\n"
     ]
    }
   ],
   "source": [
    "for i in range(len(files_method_pypdf2)):\n",
    "    with open(files_method_pypdf2[i], 'r') as file:\n",
    "        string = str(file.read()).replace(\" \", \"\").replace(\"\\n\",\"\")\n",
    "        amount_chars_pypdf2 = len(string)\n",
    "\n",
    "    with open(files_method_pdfminer[i], 'r') as file:\n",
    "        string = str(file.read()).replace(\" \", \"\").replace(\"\\n\",\"\")\n",
    "        amount_chars_pdfminer = len(string)\n",
    "\n",
    "    print(\"Amount characters pypdf2:\", amount_chars_pypdf2)\n",
    "    print(\"Amount characters pdfminer:\", amount_chars_pdfminer)\n",
    "    print(\"pypdf2 more?\", amount_chars_pypdf2 > amount_chars_pdfminer)\n",
    "    print(\"---\")"
   ],
   "metadata": {
    "collapsed": false,
    "pycharm": {
     "name": "#%%\n"
    }
   }
  },
  {
   "cell_type": "markdown",
   "source": [
    "Is seems like pdfminer was able to extract more characters when not counting new lines and spaces.\n",
    "\n",
    "## Finally, let's see how similar the two outputs are."
   ],
   "metadata": {
    "collapsed": false
   }
  },
  {
   "cell_type": "code",
   "execution_count": 9,
   "outputs": [
    {
     "name": "stdout",
     "output_type": "stream",
     "text": [
      "SequenceMatcher.ratio: 0.9682443021537634\n",
      "---\n",
      "SequenceMatcher.ratio: 0.13267453647095187\n",
      "---\n",
      "SequenceMatcher.ratio: 0.28162108868946073\n",
      "---\n",
      "SequenceMatcher.ratio: 0.19246376811594204\n",
      "---\n",
      "SequenceMatcher.ratio: 0.5951967296882984\n",
      "---\n",
      "SequenceMatcher.ratio: 0.26848621918963467\n",
      "---\n"
     ]
    }
   ],
   "source": [
    "for i in range(len(files_method_pypdf2)):\n",
    "    with open(files_method_pypdf2[i], 'r') as file:\n",
    "        string_pypdf2 = str(file.read()).replace(\" \", \"\").replace(\"\\n\",\"\")\n",
    "\n",
    "\n",
    "    with open(files_method_pdfminer[i], 'r') as file:\n",
    "        string_pdfminer = str(file.read()).replace(\" \", \"\").replace(\"\\n\",\"\")\n",
    "\n",
    "\n",
    "    print(\"SequenceMatcher.ratio:\", SequenceMatcher(None, string_pypdf2, string_pdfminer).ratio())\n",
    "    print(\"---\")"
   ],
   "metadata": {
    "collapsed": false,
    "pycharm": {
     "name": "#%%\n"
    }
   }
  },
  {
   "cell_type": "markdown",
   "source": [
    "Since we found the quality of the 'pypdf2' files to be higher, we prefer the formatting and found the differences in extracted text to be very low (almost same amount of characters), we decide to move forward with those files. The low similarity based on SequenceMatcher stems from the different formatting. For example in the 'iban/liste1.pdf', the approach of 'pypdf2' is more row-based and in case of 'pdfminer' more column-based."
   ],
   "metadata": {
    "collapsed": false
   }
  },
  {
   "cell_type": "code",
   "execution_count": null,
   "outputs": [],
   "source": [],
   "metadata": {
    "collapsed": false,
    "pycharm": {
     "name": "#%%\n"
    }
   }
  }
 ],
 "metadata": {
  "kernelspec": {
   "display_name": "Python 3",
   "language": "python",
   "name": "python3"
  },
  "language_info": {
   "codemirror_mode": {
    "name": "ipython",
    "version": 2
   },
   "file_extension": ".py",
   "mimetype": "text/x-python",
   "name": "python",
   "nbconvert_exporter": "python",
   "pygments_lexer": "ipython2",
   "version": "2.7.6"
  }
 },
 "nbformat": 4,
 "nbformat_minor": 0
}